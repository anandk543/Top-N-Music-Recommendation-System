{
  "nbformat": 4,
  "nbformat_minor": 0,
  "metadata": {
    "colab": {
      "provenance": [],
      "private_outputs": true,
      "gpuType": "T4"
    },
    "kernelspec": {
      "name": "python3",
      "display_name": "Python 3"
    },
    "language_info": {
      "name": "python"
    },
    "accelerator": "GPU",
    "gpuClass": "standard"
  },
  "cells": [
    {
      "cell_type": "code",
      "source": [
        "from google.colab import drive\n",
        "drive.mount('/content/drive')"
      ],
      "metadata": {
        "id": "uCf_5ZD_xYmc"
      },
      "execution_count": null,
      "outputs": []
    },
    {
      "cell_type": "code",
      "execution_count": null,
      "metadata": {
        "id": "N4_7CCj0xEYZ"
      },
      "outputs": [],
      "source": [
        "import numpy as np\n",
        "import pandas as pd\n",
        "import matplotlib.pyplot as plt\n",
        "import tensorflow as tf\n",
        "import pickle\n",
        "from gensim.models import Word2Vec"
      ]
    },
    {
      "cell_type": "code",
      "source": [
        "data1 = pickle.load(open('/content/drive/MyDrive/Minor Project/data1.pkl', 'rb'))"
      ],
      "metadata": {
        "id": "5PIB3UlXxKUW"
      },
      "execution_count": null,
      "outputs": []
    },
    {
      "cell_type": "code",
      "source": [
        "data1['Frequency'] = data1.groupby('UserId')['UserId'].transform('count')\n",
        "data1.sort_values('Frequency', inplace=True, ascending=False)"
      ],
      "metadata": {
        "id": "U0s7uGQ9xMo2"
      },
      "execution_count": null,
      "outputs": []
    },
    {
      "cell_type": "code",
      "source": [
        "data = data1[:6000]"
      ],
      "metadata": {
        "id": "LDpXrW8_xNQx"
      },
      "execution_count": null,
      "outputs": []
    },
    {
      "cell_type": "code",
      "source": [
        "words = list(data['ItemId'].unique())"
      ],
      "metadata": {
        "id": "ReMyrzNYxpE6"
      },
      "execution_count": null,
      "outputs": []
    },
    {
      "cell_type": "code",
      "source": [
        "def prepare_dataset(window, top_n, words, data):\n",
        "   \n",
        "    df = data.groupby(by=['SessionId'])\n",
        "    for s, d in df:\n",
        "        d = d.sort_values(by=['Time'])\n",
        "    \n",
        "    basket = []\n",
        "    next_song = []\n",
        "    for s, d in df:\n",
        "        words = list(d['ItemId'])\n",
        "        i = 1\n",
        "        j = top_n\n",
        "        m = window+top_n\n",
        "        if m > len(d):\n",
        "            m = len(d)\n",
        "        while j < m:\n",
        "            basket.append(words[0:i])\n",
        "            next_song.append(words[i:j])\n",
        "            i += 1\n",
        "            j += 1\n",
        "        for i in range(len(d)-window-top_n-1):\n",
        "            basket.append(words[i:i+window])\n",
        "            next_song.append(words[i+window:i+window+top_n])\n",
        "\n",
        "    return (basket, next_song)"
      ],
      "metadata": {
        "id": "7ov_jvpLxr2m"
      },
      "execution_count": null,
      "outputs": []
    },
    {
      "cell_type": "code",
      "source": [
        "def get_dataset(window, top_n, words, data, m, emb_length):\n",
        "    \n",
        "    (basket, next_song) = prepare_dataset(window, top_n, words, data)\n",
        "            \n",
        "    song_basket = np.zeros((len(basket), window, emb_length), dtype=np.int32)\n",
        "    recommended_song = np.zeros((len(next_song), top_n), dtype=np.int32)\n",
        "    for i, each_words in enumerate(basket):\n",
        "       for j, each_word in enumerate(each_words):\n",
        "          emb = m[each_word]\n",
        "          for k in range(emb_length):\n",
        "            song_basket[i, j, k] = emb[k]\n",
        "    \n",
        "    for i, top_songs in enumerate(next_song):\n",
        "        for j, song  in enumerate(top_songs):\n",
        "            recommended_song[i, j] = song\n",
        "    \n",
        "    return (song_basket, recommended_song)"
      ],
      "metadata": {
        "id": "ZeBD2qgRDlZD"
      },
      "execution_count": null,
      "outputs": []
    },
    {
      "cell_type": "code",
      "source": [
        "(basket, next_song) = prepare_dataset(5, 1, words, data)"
      ],
      "metadata": {
        "id": "SqCVCpqqxrrF"
      },
      "execution_count": null,
      "outputs": []
    },
    {
      "cell_type": "code",
      "source": [
        "lst = []\n",
        "for i in range(len(basket)):\n",
        "  lst.append(basket[i]+next_song[i])"
      ],
      "metadata": {
        "id": "hymiZizexrfL"
      },
      "execution_count": null,
      "outputs": []
    },
    {
      "cell_type": "code",
      "source": [
        "exc = []\n",
        "for w in words:\n",
        "  exc.append(w)\n",
        "  for l in lst:\n",
        "    if w in l:\n",
        "      exc.pop()\n",
        "      break;"
      ],
      "metadata": {
        "id": "M2ONoi6SyH9x"
      },
      "execution_count": null,
      "outputs": []
    },
    {
      "cell_type": "code",
      "source": [
        "lst.append(exc)"
      ],
      "metadata": {
        "id": "bwz7F9WmyH6a"
      },
      "execution_count": null,
      "outputs": []
    },
    {
      "cell_type": "code",
      "source": [
        "model = Word2Vec(sentences=lst, min_count=1, vector_size=100)"
      ],
      "metadata": {
        "id": "_YKXFEWTyH32"
      },
      "execution_count": null,
      "outputs": []
    },
    {
      "cell_type": "code",
      "source": [
        "m = {}\n",
        "x = list(words)\n",
        "for i, w in enumerate(x):\n",
        "  m[w] = model.wv.get_vector(w, norm=True)"
      ],
      "metadata": {
        "id": "7UhquwbxyH1L"
      },
      "execution_count": null,
      "outputs": []
    },
    {
      "cell_type": "code",
      "source": [
        "pickle.dump(m, open('/content/drive/MyDrive/Minor Project/w2v_embs_100.pkl', 'wb'))"
      ],
      "metadata": {
        "id": "4HrYGtfHyUB8"
      },
      "execution_count": null,
      "outputs": []
    },
    {
      "cell_type": "code",
      "source": [
        "(song_basket, recommended_song) = get_dataset(5, 1, words, data, m, 50)"
      ],
      "metadata": {
        "id": "k05PTnsDDVOF"
      },
      "execution_count": null,
      "outputs": []
    },
    {
      "cell_type": "code",
      "source": [
        "pickle.dump(song_basket, open('/content/drive/MyDrive/Minor Project/song_basket_w2v_5_1_50.pkl', 'wb'))\n",
        "pickle.dump(recommended_song, open('/content/drive/MyDrive/Minor Project/recommended_song_w2v_5_1_50.pkl', 'wb'))"
      ],
      "metadata": {
        "id": "5Pg4kOF1EMvo"
      },
      "execution_count": null,
      "outputs": []
    },
    {
      "cell_type": "code",
      "source": [
        "(song_basket, recommended_song) = get_dataset(5, 1, words, data, m, 100)"
      ],
      "metadata": {
        "id": "EcYB_u2EE3IZ"
      },
      "execution_count": null,
      "outputs": []
    },
    {
      "cell_type": "code",
      "source": [
        "pickle.dump(song_basket, open('/content/drive/MyDrive/Minor Project/song_basket_w2v_5_1_100.pkl', 'wb'))\n",
        "pickle.dump(recommended_song, open('/content/drive/MyDrive/Minor Project/recommended_song_w2v_5_1_100.pkl', 'wb'))"
      ],
      "metadata": {
        "id": "VdwUQ2Q2E-S4"
      },
      "execution_count": null,
      "outputs": []
    },
    {
      "cell_type": "code",
      "source": [
        "(basket, next_song) = prepare_dataset(5, 1, words, data)"
      ],
      "metadata": {
        "id": "8IhFc0r6Fs8j"
      },
      "execution_count": null,
      "outputs": []
    },
    {
      "cell_type": "code",
      "source": [
        "lst = []\n",
        "for i in range(len(basket)):\n",
        "  lst.append(basket[i]+next_song[i])"
      ],
      "metadata": {
        "id": "_qWeJ3WEGFpP"
      },
      "execution_count": null,
      "outputs": []
    },
    {
      "cell_type": "code",
      "source": [
        "exc = []\n",
        "for w in words:\n",
        "  exc.append(w)\n",
        "  for l in lst:\n",
        "    if w in l:\n",
        "      exc.pop()\n",
        "      break;"
      ],
      "metadata": {
        "id": "gYC2Stw7GI3b"
      },
      "execution_count": null,
      "outputs": []
    },
    {
      "cell_type": "code",
      "source": [
        "lst.append(exc)"
      ],
      "metadata": {
        "id": "V8x_Y3tqGLJC"
      },
      "execution_count": null,
      "outputs": []
    },
    {
      "cell_type": "code",
      "source": [
        "model = Word2Vec(sentences=lst, min_count=1, vector_size=150)"
      ],
      "metadata": {
        "id": "IOrsXWIdGTPN"
      },
      "execution_count": null,
      "outputs": []
    },
    {
      "cell_type": "code",
      "source": [
        "m = {}\n",
        "x = list(words)\n",
        "for i, w in enumerate(x):\n",
        "  m[w] = model.wv.get_vector(w, norm=True)"
      ],
      "metadata": {
        "id": "t4SGj06AGY2P"
      },
      "execution_count": null,
      "outputs": []
    },
    {
      "cell_type": "code",
      "source": [
        "pickle.dump(m, open('/content/drive/MyDrive/Minor Project/w2v_embs_150.pkl', 'wb'))"
      ],
      "metadata": {
        "id": "OqDuQipWGcSy"
      },
      "execution_count": null,
      "outputs": []
    },
    {
      "cell_type": "code",
      "source": [
        "(song_basket, recommended_song) = get_dataset(5, 1, words, data, m, 150)"
      ],
      "metadata": {
        "id": "cr32dNDuGnoW"
      },
      "execution_count": null,
      "outputs": []
    }
  ]
}