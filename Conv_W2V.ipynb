{
  "nbformat": 4,
  "nbformat_minor": 0,
  "metadata": {
    "colab": {
      "provenance": [],
      "gpuType": "T4"
    },
    "kernelspec": {
      "name": "python3",
      "display_name": "Python 3"
    },
    "language_info": {
      "name": "python"
    },
    "accelerator": "GPU",
    "gpuClass": "standard"
  },
  "cells": [
    {
      "cell_type": "code",
      "source": [
        "from google.colab import drive\n",
        "drive.mount('/content/drive')"
      ],
      "metadata": {
        "colab": {
          "base_uri": "https://localhost:8080/"
        },
        "id": "Tr9LrjBEu5xG",
        "outputId": "72e157dc-f004-4146-d8de-1c3c50ddeb7f"
      },
      "execution_count": null,
      "outputs": [
        {
          "output_type": "stream",
          "name": "stdout",
          "text": [
            "Drive already mounted at /content/drive; to attempt to forcibly remount, call drive.mount(\"/content/drive\", force_remount=True).\n"
          ]
        }
      ]
    },
    {
      "cell_type": "markdown",
      "source": [
        "## **Word2Vec**"
      ],
      "metadata": {
        "id": "DPLWZJpb3CjM"
      }
    },
    {
      "cell_type": "code",
      "source": [
        "import numpy as np\n",
        "import pandas as pd\n",
        "import pickle"
      ],
      "metadata": {
        "id": "LUSVoMdJu6Zh"
      },
      "execution_count": null,
      "outputs": []
    },
    {
      "cell_type": "code",
      "source": [
        "data = pickle.load(open('/content/drive/MyDrive/Minor Project/30music.pkl', 'rb')).rename(columns = {'UserId': 'user_id', 'SessionId': 'session_id', 'ItemId': 'song_id', 'Time': 'time', 'ArtistId': 'artist_id'})\n",
        "data.head(5)"
      ],
      "metadata": {
        "colab": {
          "base_uri": "https://localhost:8080/",
          "height": 206
        },
        "id": "t1QxL1DEvHnr",
        "outputId": "e5ed1755-15ab-4494-b905-ec7119c96612"
      },
      "execution_count": null,
      "outputs": [
        {
          "output_type": "execute_result",
          "data": {
            "text/plain": [
              "  user_id session_id  song_id        time artist_id\n",
              "0   27063    1889046  2691760  1402997433    337496\n",
              "1   27063    1889046  2691717  1402997784    337496\n",
              "2   27063    1889046  2691636  1402998064    337496\n",
              "3   27063    1889046  2691702  1402998298    337496\n",
              "4   27063    1889046  2691783  1402998576    337496"
            ],
            "text/html": [
              "\n",
              "  <div id=\"df-7e3a15c4-d62c-41e9-8320-cadffbcde674\">\n",
              "    <div class=\"colab-df-container\">\n",
              "      <div>\n",
              "<style scoped>\n",
              "    .dataframe tbody tr th:only-of-type {\n",
              "        vertical-align: middle;\n",
              "    }\n",
              "\n",
              "    .dataframe tbody tr th {\n",
              "        vertical-align: top;\n",
              "    }\n",
              "\n",
              "    .dataframe thead th {\n",
              "        text-align: right;\n",
              "    }\n",
              "</style>\n",
              "<table border=\"1\" class=\"dataframe\">\n",
              "  <thead>\n",
              "    <tr style=\"text-align: right;\">\n",
              "      <th></th>\n",
              "      <th>user_id</th>\n",
              "      <th>session_id</th>\n",
              "      <th>song_id</th>\n",
              "      <th>time</th>\n",
              "      <th>artist_id</th>\n",
              "    </tr>\n",
              "  </thead>\n",
              "  <tbody>\n",
              "    <tr>\n",
              "      <th>0</th>\n",
              "      <td>27063</td>\n",
              "      <td>1889046</td>\n",
              "      <td>2691760</td>\n",
              "      <td>1402997433</td>\n",
              "      <td>337496</td>\n",
              "    </tr>\n",
              "    <tr>\n",
              "      <th>1</th>\n",
              "      <td>27063</td>\n",
              "      <td>1889046</td>\n",
              "      <td>2691717</td>\n",
              "      <td>1402997784</td>\n",
              "      <td>337496</td>\n",
              "    </tr>\n",
              "    <tr>\n",
              "      <th>2</th>\n",
              "      <td>27063</td>\n",
              "      <td>1889046</td>\n",
              "      <td>2691636</td>\n",
              "      <td>1402998064</td>\n",
              "      <td>337496</td>\n",
              "    </tr>\n",
              "    <tr>\n",
              "      <th>3</th>\n",
              "      <td>27063</td>\n",
              "      <td>1889046</td>\n",
              "      <td>2691702</td>\n",
              "      <td>1402998298</td>\n",
              "      <td>337496</td>\n",
              "    </tr>\n",
              "    <tr>\n",
              "      <th>4</th>\n",
              "      <td>27063</td>\n",
              "      <td>1889046</td>\n",
              "      <td>2691783</td>\n",
              "      <td>1402998576</td>\n",
              "      <td>337496</td>\n",
              "    </tr>\n",
              "  </tbody>\n",
              "</table>\n",
              "</div>\n",
              "      <button class=\"colab-df-convert\" onclick=\"convertToInteractive('df-7e3a15c4-d62c-41e9-8320-cadffbcde674')\"\n",
              "              title=\"Convert this dataframe to an interactive table.\"\n",
              "              style=\"display:none;\">\n",
              "        \n",
              "  <svg xmlns=\"http://www.w3.org/2000/svg\" height=\"24px\"viewBox=\"0 0 24 24\"\n",
              "       width=\"24px\">\n",
              "    <path d=\"M0 0h24v24H0V0z\" fill=\"none\"/>\n",
              "    <path d=\"M18.56 5.44l.94 2.06.94-2.06 2.06-.94-2.06-.94-.94-2.06-.94 2.06-2.06.94zm-11 1L8.5 8.5l.94-2.06 2.06-.94-2.06-.94L8.5 2.5l-.94 2.06-2.06.94zm10 10l.94 2.06.94-2.06 2.06-.94-2.06-.94-.94-2.06-.94 2.06-2.06.94z\"/><path d=\"M17.41 7.96l-1.37-1.37c-.4-.4-.92-.59-1.43-.59-.52 0-1.04.2-1.43.59L10.3 9.45l-7.72 7.72c-.78.78-.78 2.05 0 2.83L4 21.41c.39.39.9.59 1.41.59.51 0 1.02-.2 1.41-.59l7.78-7.78 2.81-2.81c.8-.78.8-2.07 0-2.86zM5.41 20L4 18.59l7.72-7.72 1.47 1.35L5.41 20z\"/>\n",
              "  </svg>\n",
              "      </button>\n",
              "      \n",
              "  <style>\n",
              "    .colab-df-container {\n",
              "      display:flex;\n",
              "      flex-wrap:wrap;\n",
              "      gap: 12px;\n",
              "    }\n",
              "\n",
              "    .colab-df-convert {\n",
              "      background-color: #E8F0FE;\n",
              "      border: none;\n",
              "      border-radius: 50%;\n",
              "      cursor: pointer;\n",
              "      display: none;\n",
              "      fill: #1967D2;\n",
              "      height: 32px;\n",
              "      padding: 0 0 0 0;\n",
              "      width: 32px;\n",
              "    }\n",
              "\n",
              "    .colab-df-convert:hover {\n",
              "      background-color: #E2EBFA;\n",
              "      box-shadow: 0px 1px 2px rgba(60, 64, 67, 0.3), 0px 1px 3px 1px rgba(60, 64, 67, 0.15);\n",
              "      fill: #174EA6;\n",
              "    }\n",
              "\n",
              "    [theme=dark] .colab-df-convert {\n",
              "      background-color: #3B4455;\n",
              "      fill: #D2E3FC;\n",
              "    }\n",
              "\n",
              "    [theme=dark] .colab-df-convert:hover {\n",
              "      background-color: #434B5C;\n",
              "      box-shadow: 0px 1px 3px 1px rgba(0, 0, 0, 0.15);\n",
              "      filter: drop-shadow(0px 1px 2px rgba(0, 0, 0, 0.3));\n",
              "      fill: #FFFFFF;\n",
              "    }\n",
              "  </style>\n",
              "\n",
              "      <script>\n",
              "        const buttonEl =\n",
              "          document.querySelector('#df-7e3a15c4-d62c-41e9-8320-cadffbcde674 button.colab-df-convert');\n",
              "        buttonEl.style.display =\n",
              "          google.colab.kernel.accessAllowed ? 'block' : 'none';\n",
              "\n",
              "        async function convertToInteractive(key) {\n",
              "          const element = document.querySelector('#df-7e3a15c4-d62c-41e9-8320-cadffbcde674');\n",
              "          const dataTable =\n",
              "            await google.colab.kernel.invokeFunction('convertToInteractive',\n",
              "                                                     [key], {});\n",
              "          if (!dataTable) return;\n",
              "\n",
              "          const docLinkHtml = 'Like what you see? Visit the ' +\n",
              "            '<a target=\"_blank\" href=https://colab.research.google.com/notebooks/data_table.ipynb>data table notebook</a>'\n",
              "            + ' to learn more about interactive tables.';\n",
              "          element.innerHTML = '';\n",
              "          dataTable['output_type'] = 'display_data';\n",
              "          await google.colab.output.renderOutput(dataTable, element);\n",
              "          const docLink = document.createElement('div');\n",
              "          docLink.innerHTML = docLinkHtml;\n",
              "          element.appendChild(docLink);\n",
              "        }\n",
              "      </script>\n",
              "    </div>\n",
              "  </div>\n",
              "  "
            ]
          },
          "metadata": {},
          "execution_count": 40
        }
      ]
    },
    {
      "cell_type": "code",
      "source": [
        "len(data['song_id'].unique())"
      ],
      "metadata": {
        "colab": {
          "base_uri": "https://localhost:8080/"
        },
        "id": "s71pZmyr-4yI",
        "outputId": "6a7f2603-9593-4b7c-fa11-120782c11e18"
      },
      "execution_count": null,
      "outputs": [
        {
          "output_type": "execute_result",
          "data": {
            "text/plain": [
              "34645"
            ]
          },
          "metadata": {},
          "execution_count": 41
        }
      ]
    },
    {
      "cell_type": "code",
      "source": [
        "session_lengths = data.groupby('session_id').size()\n",
        "data.shape, session_lengths"
      ],
      "metadata": {
        "colab": {
          "base_uri": "https://localhost:8080/"
        },
        "id": "HnUa6gs0wAb7",
        "outputId": "70b3bf43-a41d-43c6-c85b-9f5d27cf9739"
      },
      "execution_count": null,
      "outputs": [
        {
          "output_type": "execute_result",
          "data": {
            "text/plain": [
              "((50000, 5),\n",
              " session_id\n",
              " 1047030     11\n",
              " 1047034     11\n",
              " 1047072     21\n",
              " 1047073     15\n",
              " 1047074     11\n",
              "           ... \n",
              " 995808      26\n",
              " 995809      10\n",
              " 995894       6\n",
              " 995901      60\n",
              " 995903     128\n",
              " Length: 2942, dtype: int64)"
            ]
          },
          "metadata": {},
          "execution_count": 42
        }
      ]
    },
    {
      "cell_type": "code",
      "source": [
        "data = data[np.in1d(data.session_id, session_lengths[session_lengths>1].index)]\n",
        "item_supports = data.groupby('song_id').size()\n",
        "data = data[np.in1d(data.song_id, item_supports[item_supports>=5].index)]\n",
        "session_lengths = data.groupby('session_id').size()\n",
        "data1 = data[np.in1d(data.session_id, session_lengths[session_lengths>=2].index)]"
      ],
      "metadata": {
        "id": "JzDCt77xwIDK"
      },
      "execution_count": null,
      "outputs": []
    },
    {
      "cell_type": "code",
      "source": [
        "groups = data1.groupby('session_id')\n",
        "aggregated = groups['song_id'].agg(sequence = lambda x: list(map(str, x)))\n",
        "init_ts = groups['time'].min()\n",
        "users = groups['user_id'].min()\n",
        "data = aggregated.join(init_ts).join(users)\n",
        "data.reset_index(inplace=True)\n",
        "data.head()"
      ],
      "metadata": {
        "colab": {
          "base_uri": "https://localhost:8080/",
          "height": 206
        },
        "id": "f1UK1JgNxt6C",
        "outputId": "07d5dbdb-7c05-4667-8575-f477e3177fab"
      },
      "execution_count": null,
      "outputs": [
        {
          "output_type": "execute_result",
          "data": {
            "text/plain": [
              "  session_id                                           sequence        time  \\\n",
              "0    1047073                                 [2798569, 2798569]  1391361459   \n",
              "1    1047074                        [2798815, 2798815, 3343146]  1391364748   \n",
              "2    1047078                                 [2799599, 2799599]  1391535211   \n",
              "3    1072002                                   [314212, 136742]  1395868047   \n",
              "4    1072005  [314212, 314212, 314212, 1857216, 3755626, 185...  1395931174   \n",
              "\n",
              "  user_id  \n",
              "0   12572  \n",
              "1   12572  \n",
              "2   12572  \n",
              "3   21212  \n",
              "4   21212  "
            ],
            "text/html": [
              "\n",
              "  <div id=\"df-36c85eca-bb22-478b-a9fb-4c9e164967b1\">\n",
              "    <div class=\"colab-df-container\">\n",
              "      <div>\n",
              "<style scoped>\n",
              "    .dataframe tbody tr th:only-of-type {\n",
              "        vertical-align: middle;\n",
              "    }\n",
              "\n",
              "    .dataframe tbody tr th {\n",
              "        vertical-align: top;\n",
              "    }\n",
              "\n",
              "    .dataframe thead th {\n",
              "        text-align: right;\n",
              "    }\n",
              "</style>\n",
              "<table border=\"1\" class=\"dataframe\">\n",
              "  <thead>\n",
              "    <tr style=\"text-align: right;\">\n",
              "      <th></th>\n",
              "      <th>session_id</th>\n",
              "      <th>sequence</th>\n",
              "      <th>time</th>\n",
              "      <th>user_id</th>\n",
              "    </tr>\n",
              "  </thead>\n",
              "  <tbody>\n",
              "    <tr>\n",
              "      <th>0</th>\n",
              "      <td>1047073</td>\n",
              "      <td>[2798569, 2798569]</td>\n",
              "      <td>1391361459</td>\n",
              "      <td>12572</td>\n",
              "    </tr>\n",
              "    <tr>\n",
              "      <th>1</th>\n",
              "      <td>1047074</td>\n",
              "      <td>[2798815, 2798815, 3343146]</td>\n",
              "      <td>1391364748</td>\n",
              "      <td>12572</td>\n",
              "    </tr>\n",
              "    <tr>\n",
              "      <th>2</th>\n",
              "      <td>1047078</td>\n",
              "      <td>[2799599, 2799599]</td>\n",
              "      <td>1391535211</td>\n",
              "      <td>12572</td>\n",
              "    </tr>\n",
              "    <tr>\n",
              "      <th>3</th>\n",
              "      <td>1072002</td>\n",
              "      <td>[314212, 136742]</td>\n",
              "      <td>1395868047</td>\n",
              "      <td>21212</td>\n",
              "    </tr>\n",
              "    <tr>\n",
              "      <th>4</th>\n",
              "      <td>1072005</td>\n",
              "      <td>[314212, 314212, 314212, 1857216, 3755626, 185...</td>\n",
              "      <td>1395931174</td>\n",
              "      <td>21212</td>\n",
              "    </tr>\n",
              "  </tbody>\n",
              "</table>\n",
              "</div>\n",
              "      <button class=\"colab-df-convert\" onclick=\"convertToInteractive('df-36c85eca-bb22-478b-a9fb-4c9e164967b1')\"\n",
              "              title=\"Convert this dataframe to an interactive table.\"\n",
              "              style=\"display:none;\">\n",
              "        \n",
              "  <svg xmlns=\"http://www.w3.org/2000/svg\" height=\"24px\"viewBox=\"0 0 24 24\"\n",
              "       width=\"24px\">\n",
              "    <path d=\"M0 0h24v24H0V0z\" fill=\"none\"/>\n",
              "    <path d=\"M18.56 5.44l.94 2.06.94-2.06 2.06-.94-2.06-.94-.94-2.06-.94 2.06-2.06.94zm-11 1L8.5 8.5l.94-2.06 2.06-.94-2.06-.94L8.5 2.5l-.94 2.06-2.06.94zm10 10l.94 2.06.94-2.06 2.06-.94-2.06-.94-.94-2.06-.94 2.06-2.06.94z\"/><path d=\"M17.41 7.96l-1.37-1.37c-.4-.4-.92-.59-1.43-.59-.52 0-1.04.2-1.43.59L10.3 9.45l-7.72 7.72c-.78.78-.78 2.05 0 2.83L4 21.41c.39.39.9.59 1.41.59.51 0 1.02-.2 1.41-.59l7.78-7.78 2.81-2.81c.8-.78.8-2.07 0-2.86zM5.41 20L4 18.59l7.72-7.72 1.47 1.35L5.41 20z\"/>\n",
              "  </svg>\n",
              "      </button>\n",
              "      \n",
              "  <style>\n",
              "    .colab-df-container {\n",
              "      display:flex;\n",
              "      flex-wrap:wrap;\n",
              "      gap: 12px;\n",
              "    }\n",
              "\n",
              "    .colab-df-convert {\n",
              "      background-color: #E8F0FE;\n",
              "      border: none;\n",
              "      border-radius: 50%;\n",
              "      cursor: pointer;\n",
              "      display: none;\n",
              "      fill: #1967D2;\n",
              "      height: 32px;\n",
              "      padding: 0 0 0 0;\n",
              "      width: 32px;\n",
              "    }\n",
              "\n",
              "    .colab-df-convert:hover {\n",
              "      background-color: #E2EBFA;\n",
              "      box-shadow: 0px 1px 2px rgba(60, 64, 67, 0.3), 0px 1px 3px 1px rgba(60, 64, 67, 0.15);\n",
              "      fill: #174EA6;\n",
              "    }\n",
              "\n",
              "    [theme=dark] .colab-df-convert {\n",
              "      background-color: #3B4455;\n",
              "      fill: #D2E3FC;\n",
              "    }\n",
              "\n",
              "    [theme=dark] .colab-df-convert:hover {\n",
              "      background-color: #434B5C;\n",
              "      box-shadow: 0px 1px 3px 1px rgba(0, 0, 0, 0.15);\n",
              "      filter: drop-shadow(0px 1px 2px rgba(0, 0, 0, 0.3));\n",
              "      fill: #FFFFFF;\n",
              "    }\n",
              "  </style>\n",
              "\n",
              "      <script>\n",
              "        const buttonEl =\n",
              "          document.querySelector('#df-36c85eca-bb22-478b-a9fb-4c9e164967b1 button.colab-df-convert');\n",
              "        buttonEl.style.display =\n",
              "          google.colab.kernel.accessAllowed ? 'block' : 'none';\n",
              "\n",
              "        async function convertToInteractive(key) {\n",
              "          const element = document.querySelector('#df-36c85eca-bb22-478b-a9fb-4c9e164967b1');\n",
              "          const dataTable =\n",
              "            await google.colab.kernel.invokeFunction('convertToInteractive',\n",
              "                                                     [key], {});\n",
              "          if (!dataTable) return;\n",
              "\n",
              "          const docLinkHtml = 'Like what you see? Visit the ' +\n",
              "            '<a target=\"_blank\" href=https://colab.research.google.com/notebooks/data_table.ipynb>data table notebook</a>'\n",
              "            + ' to learn more about interactive tables.';\n",
              "          element.innerHTML = '';\n",
              "          dataTable['output_type'] = 'display_data';\n",
              "          await google.colab.output.renderOutput(dataTable, element);\n",
              "          const docLink = document.createElement('div');\n",
              "          docLink.innerHTML = docLinkHtml;\n",
              "          element.appendChild(docLink);\n",
              "        }\n",
              "      </script>\n",
              "    </div>\n",
              "  </div>\n",
              "  "
            ]
          },
          "metadata": {},
          "execution_count": 44
        }
      ]
    },
    {
      "cell_type": "code",
      "source": [
        "from collections import Counter\n",
        "cnt = Counter()\n",
        "data.sequence.map(cnt.update)"
      ],
      "metadata": {
        "colab": {
          "base_uri": "https://localhost:8080/"
        },
        "id": "DUgC6gixx3s8",
        "outputId": "ccc426a8-8f68-4916-9e80-d1c5814a0dfb"
      },
      "execution_count": null,
      "outputs": [
        {
          "output_type": "execute_result",
          "data": {
            "text/plain": [
              "0      None\n",
              "1      None\n",
              "2      None\n",
              "3      None\n",
              "4      None\n",
              "       ... \n",
              "805    None\n",
              "806    None\n",
              "807    None\n",
              "808    None\n",
              "809    None\n",
              "Name: sequence, Length: 810, dtype: object"
            ]
          },
          "metadata": {},
          "execution_count": 45
        }
      ]
    },
    {
      "cell_type": "code",
      "source": [
        "sequence_length = data.sequence.map(len).values\n",
        "n_sessions_per_user = data.groupby('user_id').size()"
      ],
      "metadata": {
        "id": "z-G0SKVjyNhC"
      },
      "execution_count": null,
      "outputs": []
    },
    {
      "cell_type": "code",
      "source": [
        "print('Number of items: {}'.format(len(cnt)))\n",
        "print('Number of users: {}'.format(data.user_id.nunique()))\n",
        "print('Number of sessions: {}'.format(len(data)))\n",
        "print('\\nSession length:\\n\\tAverage: {:.2f}\\n\\tMedian: {}\\n\\tMin: {}\\n\\tMax: {}'.format(\n",
        "    sequence_length.mean(), \n",
        "    np.quantile(sequence_length, 0.5), \n",
        "    sequence_length.min(), \n",
        "    sequence_length.max()))\n",
        "print('Sessions per user:\\n\\tAverage: {:.2f}\\n\\tMedian: {}\\n\\tMin: {}\\n\\tMax: {}'.format(\n",
        "    n_sessions_per_user.mean(), \n",
        "    np.quantile(n_sessions_per_user, 0.5), \n",
        "    n_sessions_per_user.min(), \n",
        "    n_sessions_per_user.max()))"
      ],
      "metadata": {
        "colab": {
          "base_uri": "https://localhost:8080/"
        },
        "id": "zMSqQpM0yX3k",
        "outputId": "1d16b55a-1988-49f1-bee5-1600fe388f7a"
      },
      "execution_count": null,
      "outputs": [
        {
          "output_type": "stream",
          "name": "stdout",
          "text": [
            "Number of items: 863\n",
            "Number of users: 239\n",
            "Number of sessions: 810\n",
            "\n",
            "Session length:\n",
            "\tAverage: 7.78\n",
            "\tMedian: 4.0\n",
            "\tMin: 2\n",
            "\tMax: 169\n",
            "Sessions per user:\n",
            "\tAverage: 3.39\n",
            "\tMedian: 2.0\n",
            "\tMin: 1\n",
            "\tMax: 43\n"
          ]
        }
      ]
    },
    {
      "cell_type": "code",
      "source": [
        "dictList = data['sequence']\n",
        "for i in range(0,len(dictList)):\n",
        "        if len(dictList[i])<6:\n",
        "            w=6-len(dictList[i])\n",
        "            dictList[i]=['10000']*w+dictList[i]\n",
        "\n",
        "data['sequence'] = dictList\n",
        "\n",
        "data.head()"
      ],
      "metadata": {
        "colab": {
          "base_uri": "https://localhost:8080/",
          "height": 206
        },
        "id": "odbM5pAaycM4",
        "outputId": "d7fcf886-998b-4ffe-da41-bd987c29ad15"
      },
      "execution_count": null,
      "outputs": [
        {
          "output_type": "execute_result",
          "data": {
            "text/plain": [
              "  session_id                                           sequence        time  \\\n",
              "0    1047073     [10000, 10000, 10000, 10000, 2798569, 2798569]  1391361459   \n",
              "1    1047074   [10000, 10000, 10000, 2798815, 2798815, 3343146]  1391364748   \n",
              "2    1047078     [10000, 10000, 10000, 10000, 2799599, 2799599]  1391535211   \n",
              "3    1072002       [10000, 10000, 10000, 10000, 314212, 136742]  1395868047   \n",
              "4    1072005  [314212, 314212, 314212, 1857216, 3755626, 185...  1395931174   \n",
              "\n",
              "  user_id  \n",
              "0   12572  \n",
              "1   12572  \n",
              "2   12572  \n",
              "3   21212  \n",
              "4   21212  "
            ],
            "text/html": [
              "\n",
              "  <div id=\"df-3da02f8a-10ff-4812-a084-23dcbf2f8668\">\n",
              "    <div class=\"colab-df-container\">\n",
              "      <div>\n",
              "<style scoped>\n",
              "    .dataframe tbody tr th:only-of-type {\n",
              "        vertical-align: middle;\n",
              "    }\n",
              "\n",
              "    .dataframe tbody tr th {\n",
              "        vertical-align: top;\n",
              "    }\n",
              "\n",
              "    .dataframe thead th {\n",
              "        text-align: right;\n",
              "    }\n",
              "</style>\n",
              "<table border=\"1\" class=\"dataframe\">\n",
              "  <thead>\n",
              "    <tr style=\"text-align: right;\">\n",
              "      <th></th>\n",
              "      <th>session_id</th>\n",
              "      <th>sequence</th>\n",
              "      <th>time</th>\n",
              "      <th>user_id</th>\n",
              "    </tr>\n",
              "  </thead>\n",
              "  <tbody>\n",
              "    <tr>\n",
              "      <th>0</th>\n",
              "      <td>1047073</td>\n",
              "      <td>[10000, 10000, 10000, 10000, 2798569, 2798569]</td>\n",
              "      <td>1391361459</td>\n",
              "      <td>12572</td>\n",
              "    </tr>\n",
              "    <tr>\n",
              "      <th>1</th>\n",
              "      <td>1047074</td>\n",
              "      <td>[10000, 10000, 10000, 2798815, 2798815, 3343146]</td>\n",
              "      <td>1391364748</td>\n",
              "      <td>12572</td>\n",
              "    </tr>\n",
              "    <tr>\n",
              "      <th>2</th>\n",
              "      <td>1047078</td>\n",
              "      <td>[10000, 10000, 10000, 10000, 2799599, 2799599]</td>\n",
              "      <td>1391535211</td>\n",
              "      <td>12572</td>\n",
              "    </tr>\n",
              "    <tr>\n",
              "      <th>3</th>\n",
              "      <td>1072002</td>\n",
              "      <td>[10000, 10000, 10000, 10000, 314212, 136742]</td>\n",
              "      <td>1395868047</td>\n",
              "      <td>21212</td>\n",
              "    </tr>\n",
              "    <tr>\n",
              "      <th>4</th>\n",
              "      <td>1072005</td>\n",
              "      <td>[314212, 314212, 314212, 1857216, 3755626, 185...</td>\n",
              "      <td>1395931174</td>\n",
              "      <td>21212</td>\n",
              "    </tr>\n",
              "  </tbody>\n",
              "</table>\n",
              "</div>\n",
              "      <button class=\"colab-df-convert\" onclick=\"convertToInteractive('df-3da02f8a-10ff-4812-a084-23dcbf2f8668')\"\n",
              "              title=\"Convert this dataframe to an interactive table.\"\n",
              "              style=\"display:none;\">\n",
              "        \n",
              "  <svg xmlns=\"http://www.w3.org/2000/svg\" height=\"24px\"viewBox=\"0 0 24 24\"\n",
              "       width=\"24px\">\n",
              "    <path d=\"M0 0h24v24H0V0z\" fill=\"none\"/>\n",
              "    <path d=\"M18.56 5.44l.94 2.06.94-2.06 2.06-.94-2.06-.94-.94-2.06-.94 2.06-2.06.94zm-11 1L8.5 8.5l.94-2.06 2.06-.94-2.06-.94L8.5 2.5l-.94 2.06-2.06.94zm10 10l.94 2.06.94-2.06 2.06-.94-2.06-.94-.94-2.06-.94 2.06-2.06.94z\"/><path d=\"M17.41 7.96l-1.37-1.37c-.4-.4-.92-.59-1.43-.59-.52 0-1.04.2-1.43.59L10.3 9.45l-7.72 7.72c-.78.78-.78 2.05 0 2.83L4 21.41c.39.39.9.59 1.41.59.51 0 1.02-.2 1.41-.59l7.78-7.78 2.81-2.81c.8-.78.8-2.07 0-2.86zM5.41 20L4 18.59l7.72-7.72 1.47 1.35L5.41 20z\"/>\n",
              "  </svg>\n",
              "      </button>\n",
              "      \n",
              "  <style>\n",
              "    .colab-df-container {\n",
              "      display:flex;\n",
              "      flex-wrap:wrap;\n",
              "      gap: 12px;\n",
              "    }\n",
              "\n",
              "    .colab-df-convert {\n",
              "      background-color: #E8F0FE;\n",
              "      border: none;\n",
              "      border-radius: 50%;\n",
              "      cursor: pointer;\n",
              "      display: none;\n",
              "      fill: #1967D2;\n",
              "      height: 32px;\n",
              "      padding: 0 0 0 0;\n",
              "      width: 32px;\n",
              "    }\n",
              "\n",
              "    .colab-df-convert:hover {\n",
              "      background-color: #E2EBFA;\n",
              "      box-shadow: 0px 1px 2px rgba(60, 64, 67, 0.3), 0px 1px 3px 1px rgba(60, 64, 67, 0.15);\n",
              "      fill: #174EA6;\n",
              "    }\n",
              "\n",
              "    [theme=dark] .colab-df-convert {\n",
              "      background-color: #3B4455;\n",
              "      fill: #D2E3FC;\n",
              "    }\n",
              "\n",
              "    [theme=dark] .colab-df-convert:hover {\n",
              "      background-color: #434B5C;\n",
              "      box-shadow: 0px 1px 3px 1px rgba(0, 0, 0, 0.15);\n",
              "      filter: drop-shadow(0px 1px 2px rgba(0, 0, 0, 0.3));\n",
              "      fill: #FFFFFF;\n",
              "    }\n",
              "  </style>\n",
              "\n",
              "      <script>\n",
              "        const buttonEl =\n",
              "          document.querySelector('#df-3da02f8a-10ff-4812-a084-23dcbf2f8668 button.colab-df-convert');\n",
              "        buttonEl.style.display =\n",
              "          google.colab.kernel.accessAllowed ? 'block' : 'none';\n",
              "\n",
              "        async function convertToInteractive(key) {\n",
              "          const element = document.querySelector('#df-3da02f8a-10ff-4812-a084-23dcbf2f8668');\n",
              "          const dataTable =\n",
              "            await google.colab.kernel.invokeFunction('convertToInteractive',\n",
              "                                                     [key], {});\n",
              "          if (!dataTable) return;\n",
              "\n",
              "          const docLinkHtml = 'Like what you see? Visit the ' +\n",
              "            '<a target=\"_blank\" href=https://colab.research.google.com/notebooks/data_table.ipynb>data table notebook</a>'\n",
              "            + ' to learn more about interactive tables.';\n",
              "          element.innerHTML = '';\n",
              "          dataTable['output_type'] = 'display_data';\n",
              "          await google.colab.output.renderOutput(dataTable, element);\n",
              "          const docLink = document.createElement('div');\n",
              "          docLink.innerHTML = docLinkHtml;\n",
              "          element.appendChild(docLink);\n",
              "        }\n",
              "      </script>\n",
              "    </div>\n",
              "  </div>\n",
              "  "
            ]
          },
          "metadata": {},
          "execution_count": 48
        }
      ]
    },
    {
      "cell_type": "code",
      "source": [
        "from nltk.tokenize import sent_tokenize, word_tokenize\n",
        "import gensim\n",
        "from gensim.models import Word2Vec"
      ],
      "metadata": {
        "id": "_U01sW7fzcoY"
      },
      "execution_count": null,
      "outputs": []
    },
    {
      "cell_type": "code",
      "source": [
        "model = Word2Vec(data['sequence'], min_count = 1, vector_size = 150, window = 5, workers = 20)"
      ],
      "metadata": {
        "id": "RTIbnOAOzlhm"
      },
      "execution_count": null,
      "outputs": []
    },
    {
      "cell_type": "code",
      "source": [
        "#find full vocabular\n",
        "entire_products=[]\n",
        "for key in model.wv.index_to_key:\n",
        "    entire_products.append(key)\n",
        "\n",
        "vectors = model.syn1neg"
      ],
      "metadata": {
        "id": "kn59HG0YzsY4"
      },
      "execution_count": null,
      "outputs": []
    },
    {
      "cell_type": "code",
      "source": [
        "a = data['sequence']\n",
        "word2vec_data = []\n",
        "for i in range(len(a)):\n",
        "    seq = a[i]\n",
        "    seq_vector = []\n",
        "    for j in range(len(seq)):\n",
        "        item = seq[j]\n",
        "        index = entire_products.index(item)\n",
        "        item_vector = vectors[index]\n",
        "        seq_vector.append(item_vector)\n",
        "    word2vec_data.append(seq_vector)\n",
        "\n",
        "data['word2vec_songs'] = word2vec_data"
      ],
      "metadata": {
        "id": "Y_CWp6mKz0ME"
      },
      "execution_count": null,
      "outputs": []
    },
    {
      "cell_type": "code",
      "source": [
        "X = []\n",
        "\n",
        "for i in range(len(word2vec_data)):\n",
        "    seq = word2vec_data[i]\n",
        "    if len(seq)>= 5:\n",
        "        for j in range(0,(len(seq)-5)):  \n",
        "            X.append(seq[j:j+5])\n",
        "            #y.append(seq[j+5])\n",
        "\n",
        "X = np.array(X)\n",
        "\n",
        "X.shape"
      ],
      "metadata": {
        "colab": {
          "base_uri": "https://localhost:8080/"
        },
        "id": "FlOBIB930E8X",
        "outputId": "c4e01370-f5a2-4770-dc0b-2663fa313e2c"
      },
      "execution_count": null,
      "outputs": [
        {
          "output_type": "execute_result",
          "data": {
            "text/plain": [
              "(3761, 5, 150)"
            ]
          },
          "metadata": {},
          "execution_count": 53
        }
      ]
    },
    {
      "cell_type": "code",
      "source": [
        "v = data['sequence'].tolist()\n",
        "y = []\n",
        "for i in range(len(v)):\n",
        "    seq = v[i]\n",
        "    if len(seq)>= 5:\n",
        "        for j in range(0,(len(seq)-5)):  \n",
        "            #X.append(seq[j:j+5])\n",
        "            y.append(seq[j+5])"
      ],
      "metadata": {
        "id": "6hnUc5vo0IZY"
      },
      "execution_count": null,
      "outputs": []
    },
    {
      "cell_type": "code",
      "source": [
        "y = list(map(int, y))\n",
        "label_encoding_data = list(map(int, entire_products))\n",
        "from sklearn.preprocessing import LabelEncoder\n",
        "product_label=LabelEncoder()\n",
        "product_label.fit(label_encoding_data)\n",
        "y = product_label.transform(y)\n",
        "\n",
        "type(y), max(y)"
      ],
      "metadata": {
        "colab": {
          "base_uri": "https://localhost:8080/"
        },
        "id": "G2hjjUqZ0lkN",
        "outputId": "3c246c71-7997-49ad-8a2a-0c7fccdd50ef"
      },
      "execution_count": null,
      "outputs": [
        {
          "output_type": "execute_result",
          "data": {
            "text/plain": [
              "(numpy.ndarray, 863)"
            ]
          },
          "metadata": {},
          "execution_count": 55
        }
      ]
    },
    {
      "cell_type": "code",
      "source": [
        "data"
      ],
      "metadata": {
        "colab": {
          "base_uri": "https://localhost:8080/",
          "height": 423
        },
        "id": "ayRH2cofsv_o",
        "outputId": "4eae6f99-1344-4ab9-f221-dbaa423303b2"
      },
      "execution_count": null,
      "outputs": [
        {
          "output_type": "execute_result",
          "data": {
            "text/plain": [
              "    session_id                                           sequence        time  \\\n",
              "0      1047073     [10000, 10000, 10000, 10000, 2798569, 2798569]  1391361459   \n",
              "1      1047074   [10000, 10000, 10000, 2798815, 2798815, 3343146]  1391364748   \n",
              "2      1047078     [10000, 10000, 10000, 10000, 2799599, 2799599]  1391535211   \n",
              "3      1072002       [10000, 10000, 10000, 10000, 314212, 136742]  1395868047   \n",
              "4      1072005  [314212, 314212, 314212, 1857216, 3755626, 185...  1395931174   \n",
              "..         ...                                                ...         ...   \n",
              "805     995801   [10000, 10000, 10000, 3791273, 3362034, 3791273]  1391645977   \n",
              "806     995802  [3791273, 3791273, 3791273, 3791273, 3791273, ...  1391686922   \n",
              "807     995804     [10000, 10000, 10000, 10000, 3791273, 1035704]  1391732295   \n",
              "808     995901  [3785891, 3785941, 3785906, 3785892, 3785938, ...  1405306632   \n",
              "809     995903  [3785941, 3785891, 3785919, 3785929, 3785906, ...  1405374050   \n",
              "\n",
              "    user_id                                     word2vec_songs  \n",
              "0     12572  [[-0.3713296, -0.033110447, -0.024135217, -0.2...  \n",
              "1     12572  [[-0.3713296, -0.033110447, -0.024135217, -0.2...  \n",
              "2     12572  [[-0.3713296, -0.033110447, -0.024135217, -0.2...  \n",
              "3     21212  [[-0.3713296, -0.033110447, -0.024135217, -0.2...  \n",
              "4     21212  [[-0.009991194, -0.0012773755, 0.00024308628, ...  \n",
              "..      ...                                                ...  \n",
              "805   36135  [[-0.3713296, -0.033110447, -0.024135217, -0.2...  \n",
              "806   36135  [[-0.013292257, -0.0018995431, 0.0010803611, -...  \n",
              "807   36135  [[-0.3713296, -0.033110447, -0.024135217, -0.2...  \n",
              "808   36135  [[-0.0008515109, -0.0002014215, 0.00075316103,...  \n",
              "809   36135  [[0.0013849309, -0.0008661978, -0.000987588, 0...  \n",
              "\n",
              "[810 rows x 5 columns]"
            ],
            "text/html": [
              "\n",
              "  <div id=\"df-95ed264c-7728-4ad2-b644-2e898c68db0a\">\n",
              "    <div class=\"colab-df-container\">\n",
              "      <div>\n",
              "<style scoped>\n",
              "    .dataframe tbody tr th:only-of-type {\n",
              "        vertical-align: middle;\n",
              "    }\n",
              "\n",
              "    .dataframe tbody tr th {\n",
              "        vertical-align: top;\n",
              "    }\n",
              "\n",
              "    .dataframe thead th {\n",
              "        text-align: right;\n",
              "    }\n",
              "</style>\n",
              "<table border=\"1\" class=\"dataframe\">\n",
              "  <thead>\n",
              "    <tr style=\"text-align: right;\">\n",
              "      <th></th>\n",
              "      <th>session_id</th>\n",
              "      <th>sequence</th>\n",
              "      <th>time</th>\n",
              "      <th>user_id</th>\n",
              "      <th>word2vec_songs</th>\n",
              "    </tr>\n",
              "  </thead>\n",
              "  <tbody>\n",
              "    <tr>\n",
              "      <th>0</th>\n",
              "      <td>1047073</td>\n",
              "      <td>[10000, 10000, 10000, 10000, 2798569, 2798569]</td>\n",
              "      <td>1391361459</td>\n",
              "      <td>12572</td>\n",
              "      <td>[[-0.3713296, -0.033110447, -0.024135217, -0.2...</td>\n",
              "    </tr>\n",
              "    <tr>\n",
              "      <th>1</th>\n",
              "      <td>1047074</td>\n",
              "      <td>[10000, 10000, 10000, 2798815, 2798815, 3343146]</td>\n",
              "      <td>1391364748</td>\n",
              "      <td>12572</td>\n",
              "      <td>[[-0.3713296, -0.033110447, -0.024135217, -0.2...</td>\n",
              "    </tr>\n",
              "    <tr>\n",
              "      <th>2</th>\n",
              "      <td>1047078</td>\n",
              "      <td>[10000, 10000, 10000, 10000, 2799599, 2799599]</td>\n",
              "      <td>1391535211</td>\n",
              "      <td>12572</td>\n",
              "      <td>[[-0.3713296, -0.033110447, -0.024135217, -0.2...</td>\n",
              "    </tr>\n",
              "    <tr>\n",
              "      <th>3</th>\n",
              "      <td>1072002</td>\n",
              "      <td>[10000, 10000, 10000, 10000, 314212, 136742]</td>\n",
              "      <td>1395868047</td>\n",
              "      <td>21212</td>\n",
              "      <td>[[-0.3713296, -0.033110447, -0.024135217, -0.2...</td>\n",
              "    </tr>\n",
              "    <tr>\n",
              "      <th>4</th>\n",
              "      <td>1072005</td>\n",
              "      <td>[314212, 314212, 314212, 1857216, 3755626, 185...</td>\n",
              "      <td>1395931174</td>\n",
              "      <td>21212</td>\n",
              "      <td>[[-0.009991194, -0.0012773755, 0.00024308628, ...</td>\n",
              "    </tr>\n",
              "    <tr>\n",
              "      <th>...</th>\n",
              "      <td>...</td>\n",
              "      <td>...</td>\n",
              "      <td>...</td>\n",
              "      <td>...</td>\n",
              "      <td>...</td>\n",
              "    </tr>\n",
              "    <tr>\n",
              "      <th>805</th>\n",
              "      <td>995801</td>\n",
              "      <td>[10000, 10000, 10000, 3791273, 3362034, 3791273]</td>\n",
              "      <td>1391645977</td>\n",
              "      <td>36135</td>\n",
              "      <td>[[-0.3713296, -0.033110447, -0.024135217, -0.2...</td>\n",
              "    </tr>\n",
              "    <tr>\n",
              "      <th>806</th>\n",
              "      <td>995802</td>\n",
              "      <td>[3791273, 3791273, 3791273, 3791273, 3791273, ...</td>\n",
              "      <td>1391686922</td>\n",
              "      <td>36135</td>\n",
              "      <td>[[-0.013292257, -0.0018995431, 0.0010803611, -...</td>\n",
              "    </tr>\n",
              "    <tr>\n",
              "      <th>807</th>\n",
              "      <td>995804</td>\n",
              "      <td>[10000, 10000, 10000, 10000, 3791273, 1035704]</td>\n",
              "      <td>1391732295</td>\n",
              "      <td>36135</td>\n",
              "      <td>[[-0.3713296, -0.033110447, -0.024135217, -0.2...</td>\n",
              "    </tr>\n",
              "    <tr>\n",
              "      <th>808</th>\n",
              "      <td>995901</td>\n",
              "      <td>[3785891, 3785941, 3785906, 3785892, 3785938, ...</td>\n",
              "      <td>1405306632</td>\n",
              "      <td>36135</td>\n",
              "      <td>[[-0.0008515109, -0.0002014215, 0.00075316103,...</td>\n",
              "    </tr>\n",
              "    <tr>\n",
              "      <th>809</th>\n",
              "      <td>995903</td>\n",
              "      <td>[3785941, 3785891, 3785919, 3785929, 3785906, ...</td>\n",
              "      <td>1405374050</td>\n",
              "      <td>36135</td>\n",
              "      <td>[[0.0013849309, -0.0008661978, -0.000987588, 0...</td>\n",
              "    </tr>\n",
              "  </tbody>\n",
              "</table>\n",
              "<p>810 rows × 5 columns</p>\n",
              "</div>\n",
              "      <button class=\"colab-df-convert\" onclick=\"convertToInteractive('df-95ed264c-7728-4ad2-b644-2e898c68db0a')\"\n",
              "              title=\"Convert this dataframe to an interactive table.\"\n",
              "              style=\"display:none;\">\n",
              "        \n",
              "  <svg xmlns=\"http://www.w3.org/2000/svg\" height=\"24px\"viewBox=\"0 0 24 24\"\n",
              "       width=\"24px\">\n",
              "    <path d=\"M0 0h24v24H0V0z\" fill=\"none\"/>\n",
              "    <path d=\"M18.56 5.44l.94 2.06.94-2.06 2.06-.94-2.06-.94-.94-2.06-.94 2.06-2.06.94zm-11 1L8.5 8.5l.94-2.06 2.06-.94-2.06-.94L8.5 2.5l-.94 2.06-2.06.94zm10 10l.94 2.06.94-2.06 2.06-.94-2.06-.94-.94-2.06-.94 2.06-2.06.94z\"/><path d=\"M17.41 7.96l-1.37-1.37c-.4-.4-.92-.59-1.43-.59-.52 0-1.04.2-1.43.59L10.3 9.45l-7.72 7.72c-.78.78-.78 2.05 0 2.83L4 21.41c.39.39.9.59 1.41.59.51 0 1.02-.2 1.41-.59l7.78-7.78 2.81-2.81c.8-.78.8-2.07 0-2.86zM5.41 20L4 18.59l7.72-7.72 1.47 1.35L5.41 20z\"/>\n",
              "  </svg>\n",
              "      </button>\n",
              "      \n",
              "  <style>\n",
              "    .colab-df-container {\n",
              "      display:flex;\n",
              "      flex-wrap:wrap;\n",
              "      gap: 12px;\n",
              "    }\n",
              "\n",
              "    .colab-df-convert {\n",
              "      background-color: #E8F0FE;\n",
              "      border: none;\n",
              "      border-radius: 50%;\n",
              "      cursor: pointer;\n",
              "      display: none;\n",
              "      fill: #1967D2;\n",
              "      height: 32px;\n",
              "      padding: 0 0 0 0;\n",
              "      width: 32px;\n",
              "    }\n",
              "\n",
              "    .colab-df-convert:hover {\n",
              "      background-color: #E2EBFA;\n",
              "      box-shadow: 0px 1px 2px rgba(60, 64, 67, 0.3), 0px 1px 3px 1px rgba(60, 64, 67, 0.15);\n",
              "      fill: #174EA6;\n",
              "    }\n",
              "\n",
              "    [theme=dark] .colab-df-convert {\n",
              "      background-color: #3B4455;\n",
              "      fill: #D2E3FC;\n",
              "    }\n",
              "\n",
              "    [theme=dark] .colab-df-convert:hover {\n",
              "      background-color: #434B5C;\n",
              "      box-shadow: 0px 1px 3px 1px rgba(0, 0, 0, 0.15);\n",
              "      filter: drop-shadow(0px 1px 2px rgba(0, 0, 0, 0.3));\n",
              "      fill: #FFFFFF;\n",
              "    }\n",
              "  </style>\n",
              "\n",
              "      <script>\n",
              "        const buttonEl =\n",
              "          document.querySelector('#df-95ed264c-7728-4ad2-b644-2e898c68db0a button.colab-df-convert');\n",
              "        buttonEl.style.display =\n",
              "          google.colab.kernel.accessAllowed ? 'block' : 'none';\n",
              "\n",
              "        async function convertToInteractive(key) {\n",
              "          const element = document.querySelector('#df-95ed264c-7728-4ad2-b644-2e898c68db0a');\n",
              "          const dataTable =\n",
              "            await google.colab.kernel.invokeFunction('convertToInteractive',\n",
              "                                                     [key], {});\n",
              "          if (!dataTable) return;\n",
              "\n",
              "          const docLinkHtml = 'Like what you see? Visit the ' +\n",
              "            '<a target=\"_blank\" href=https://colab.research.google.com/notebooks/data_table.ipynb>data table notebook</a>'\n",
              "            + ' to learn more about interactive tables.';\n",
              "          element.innerHTML = '';\n",
              "          dataTable['output_type'] = 'display_data';\n",
              "          await google.colab.output.renderOutput(dataTable, element);\n",
              "          const docLink = document.createElement('div');\n",
              "          docLink.innerHTML = docLinkHtml;\n",
              "          element.appendChild(docLink);\n",
              "        }\n",
              "      </script>\n",
              "    </div>\n",
              "  </div>\n",
              "  "
            ]
          },
          "metadata": {},
          "execution_count": 63
        }
      ]
    },
    {
      "cell_type": "code",
      "source": [
        "from sklearn.preprocessing import MinMaxScaler\n",
        "scaler = MinMaxScaler()\n",
        "X = scaler.fit_transform(X.reshape(X.shape[0], -1)).reshape(X.shape)"
      ],
      "metadata": {
        "id": "37EEWGwm02XX"
      },
      "execution_count": null,
      "outputs": []
    },
    {
      "cell_type": "code",
      "source": [
        "from sklearn.model_selection import train_test_split\n",
        "X_train, X_test, y_train, y_test = train_test_split(X, y, test_size=0.2, random_state=1)"
      ],
      "metadata": {
        "id": "Mo4mr9Lq1BfO"
      },
      "execution_count": null,
      "outputs": []
    },
    {
      "cell_type": "code",
      "source": [
        "from numpy import array\n",
        "from keras.models import Sequential\n",
        "from keras.layers import Dense, Input\n",
        "from keras.layers import Flatten,Reshape\n",
        "from keras.layers.convolutional import Conv1D, Conv2D\n",
        "from keras.layers.convolutional import MaxPooling1D, MaxPooling2D\n",
        "import tensorflow as tf\n",
        "from keras.models import Model"
      ],
      "metadata": {
        "id": "BRdSlrWh1E7_"
      },
      "execution_count": null,
      "outputs": []
    },
    {
      "cell_type": "code",
      "source": [
        "tf.config.run_functions_eagerly(True)"
      ],
      "metadata": {
        "id": "Z5CU4SZzn9uS"
      },
      "execution_count": null,
      "outputs": []
    },
    {
      "cell_type": "code",
      "source": [
        "n_steps=5\n",
        "n_features=150\n",
        "batch_size=32\n",
        "total_vocab=len(entire_products)"
      ],
      "metadata": {
        "id": "06FM_TSp1Jw_"
      },
      "execution_count": null,
      "outputs": []
    },
    {
      "cell_type": "code",
      "source": [
        "# define model\n",
        "# vertical_model = Sequential()\n",
        "first_input = Input(shape=(n_steps, n_features, 1))\n",
        "vertical_model = Conv2D(filters=512, kernel_size=(5,1), activation='relu', padding='valid')(first_input)\n",
        "vertical_model = Reshape(target_shape = (vertical_model.shape[2], vertical_model.shape[3]))(vertical_model)\n",
        "vertical_model = MaxPooling1D(pool_size = vertical_model.shape[1])(vertical_model)\n",
        "vertical_model = Flatten()(vertical_model)\n",
        "\n",
        "# horizontal_model = Sequential()\n",
        "second_input = Input(shape=(n_steps, n_features, 1))\n",
        "horizontal_model = Conv2D(filters=512, kernel_size=(3,50), activation='relu', padding='valid')(second_input)\n",
        "# print(horizontal_model.shape)\n",
        "horizontal_model = Reshape(target_shape = (horizontal_model.shape[1]*horizontal_model.shape[2], horizontal_model.shape[3]))(horizontal_model)\n",
        "horizontal_model = MaxPooling1D(pool_size = horizontal_model.shape[1])(horizontal_model)\n",
        "horizontal_model = Flatten()(horizontal_model)\n",
        "\n",
        "# merge_model = Sequential()\n",
        "merged = tf.keras.layers.Concatenate()([vertical_model, horizontal_model])\n",
        "# merge_model.add(merged)\n",
        "\n",
        "merge_model = Dense(256, activation='relu')(merged)\n",
        "merge_model = Dense(64, activation='relu')(merged)\n",
        "merge_model = Dense(total_vocab, activation='softmax')(merge_model)\n",
        "model = Model(inputs = [first_input, second_input], outputs = merge_model)\n",
        "\n",
        "model.compile(optimizer='adam', loss='sparse_categorical_crossentropy',metrics=['accuracy'])\n",
        "model.summary()"
      ],
      "metadata": {
        "colab": {
          "base_uri": "https://localhost:8080/"
        },
        "id": "0L6kQZLY1MQW",
        "outputId": "87a6f16c-0fce-478c-a573-a60e9549bbdf"
      },
      "execution_count": null,
      "outputs": [
        {
          "output_type": "stream",
          "name": "stdout",
          "text": [
            "Model: \"model_6\"\n",
            "__________________________________________________________________________________________________\n",
            " Layer (type)                   Output Shape         Param #     Connected to                     \n",
            "==================================================================================================\n",
            " input_23 (InputLayer)          [(None, 5, 150, 1)]  0           []                               \n",
            "                                                                                                  \n",
            " input_24 (InputLayer)          [(None, 5, 150, 1)]  0           []                               \n",
            "                                                                                                  \n",
            " conv2d_24 (Conv2D)             (None, 1, 150, 512)  3072        ['input_23[0][0]']               \n",
            "                                                                                                  \n",
            " conv2d_25 (Conv2D)             (None, 3, 101, 512)  77312       ['input_24[0][0]']               \n",
            "                                                                                                  \n",
            " reshape_22 (Reshape)           (None, 150, 512)     0           ['conv2d_24[0][0]']              \n",
            "                                                                                                  \n",
            " reshape_23 (Reshape)           (None, 303, 512)     0           ['conv2d_25[0][0]']              \n",
            "                                                                                                  \n",
            " max_pooling1d_17 (MaxPooling1D  (None, 1, 512)      0           ['reshape_22[0][0]']             \n",
            " )                                                                                                \n",
            "                                                                                                  \n",
            " max_pooling1d_18 (MaxPooling1D  (None, 1, 512)      0           ['reshape_23[0][0]']             \n",
            " )                                                                                                \n",
            "                                                                                                  \n",
            " flatten_19 (Flatten)           (None, 512)          0           ['max_pooling1d_17[0][0]']       \n",
            "                                                                                                  \n",
            " flatten_20 (Flatten)           (None, 512)          0           ['max_pooling1d_18[0][0]']       \n",
            "                                                                                                  \n",
            " concatenate_7 (Concatenate)    (None, 1024)         0           ['flatten_19[0][0]',             \n",
            "                                                                  'flatten_20[0][0]']             \n",
            "                                                                                                  \n",
            " dense_18 (Dense)               (None, 64)           65600       ['concatenate_7[0][0]']          \n",
            "                                                                                                  \n",
            " dense_19 (Dense)               (None, 864)          56160       ['dense_18[0][0]']               \n",
            "                                                                                                  \n",
            "==================================================================================================\n",
            "Total params: 202,144\n",
            "Trainable params: 202,144\n",
            "Non-trainable params: 0\n",
            "__________________________________________________________________________________________________\n"
          ]
        }
      ]
    },
    {
      "cell_type": "code",
      "source": [
        "# fit model\n",
        "history = model.fit([X_train, X_train], \n",
        "          y_train, \n",
        "          epochs=50,\n",
        "          validation_split=0.1,\n",
        "          verbose=2)"
      ],
      "metadata": {
        "colab": {
          "base_uri": "https://localhost:8080/"
        },
        "id": "BGvnXNoV1PpG",
        "outputId": "62a307db-10f2-4cda-fdc8-cddd435efb58"
      },
      "execution_count": null,
      "outputs": [
        {
          "output_type": "stream",
          "name": "stdout",
          "text": [
            "Epoch 1/10\n"
          ]
        },
        {
          "output_type": "stream",
          "name": "stderr",
          "text": [
            "/usr/local/lib/python3.10/dist-packages/tensorflow/python/data/ops/structured_function.py:254: UserWarning: Even though the `tf.config.experimental_run_functions_eagerly` option is set, this option does not apply to tf.data functions. To force eager execution of tf.data functions, please use `tf.data.experimental.enable_debug_mode()`.\n",
            "  warnings.warn(\n"
          ]
        },
        {
          "output_type": "stream",
          "name": "stdout",
          "text": [
            "85/85 - 23s - loss: 6.5680 - accuracy: 0.0236 - val_loss: 6.3511 - val_accuracy: 0.0266 - 23s/epoch - 266ms/step\n",
            "Epoch 2/10\n",
            "85/85 - 22s - loss: 6.0420 - accuracy: 0.0465 - val_loss: 6.1012 - val_accuracy: 0.0432 - 22s/epoch - 259ms/step\n",
            "Epoch 3/10\n",
            "85/85 - 23s - loss: 5.8042 - accuracy: 0.0602 - val_loss: 6.0398 - val_accuracy: 0.0498 - 23s/epoch - 272ms/step\n",
            "Epoch 4/10\n",
            "85/85 - 19s - loss: 5.6202 - accuracy: 0.0676 - val_loss: 6.0130 - val_accuracy: 0.0631 - 19s/epoch - 228ms/step\n",
            "Epoch 5/10\n",
            "85/85 - 20s - loss: 5.4729 - accuracy: 0.0798 - val_loss: 5.9217 - val_accuracy: 0.0731 - 20s/epoch - 237ms/step\n",
            "Epoch 6/10\n",
            "85/85 - 20s - loss: 5.3498 - accuracy: 0.0935 - val_loss: 5.8688 - val_accuracy: 0.0764 - 20s/epoch - 235ms/step\n",
            "Epoch 7/10\n",
            "85/85 - 19s - loss: 5.2160 - accuracy: 0.1045 - val_loss: 5.8763 - val_accuracy: 0.0930 - 19s/epoch - 229ms/step\n",
            "Epoch 8/10\n",
            "85/85 - 21s - loss: 5.1289 - accuracy: 0.1093 - val_loss: 5.8576 - val_accuracy: 0.0997 - 21s/epoch - 247ms/step\n",
            "Epoch 9/10\n",
            "85/85 - 19s - loss: 5.0280 - accuracy: 0.1130 - val_loss: 5.8607 - val_accuracy: 0.0897 - 19s/epoch - 227ms/step\n",
            "Epoch 10/10\n",
            "85/85 - 21s - loss: 4.9762 - accuracy: 0.1153 - val_loss: 6.0149 - val_accuracy: 0.0864 - 21s/epoch - 242ms/step\n"
          ]
        }
      ]
    },
    {
      "cell_type": "code",
      "source": [
        "import matplotlib.pyplot as plt"
      ],
      "metadata": {
        "id": "ldrRYZtw1bJF"
      },
      "execution_count": null,
      "outputs": []
    },
    {
      "cell_type": "code",
      "source": [
        "history.history['accuracy']"
      ],
      "metadata": {
        "id": "Zo3lzxq8KGkL"
      },
      "execution_count": null,
      "outputs": []
    },
    {
      "cell_type": "code",
      "source": [
        "plt.plot(np.arange(len(history.history['acc']), history.history[]))"
      ],
      "metadata": {
        "id": "FyqiKkb7KPvo"
      },
      "execution_count": null,
      "outputs": []
    }
  ]
}