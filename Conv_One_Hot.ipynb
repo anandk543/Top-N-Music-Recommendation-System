{
  "nbformat": 4,
  "nbformat_minor": 0,
  "metadata": {
    "colab": {
      "provenance": []
    },
    "kernelspec": {
      "name": "python3",
      "display_name": "Python 3"
    },
    "language_info": {
      "name": "python"
    }
  },
  "cells": [
    {
      "cell_type": "code",
      "execution_count": null,
      "metadata": {
        "colab": {
          "base_uri": "https://localhost:8080/"
        },
        "id": "PKP9fpFpudWZ",
        "outputId": "d1697ecb-a7e2-457d-a529-0ea4798d4ee0"
      },
      "outputs": [
        {
          "output_type": "stream",
          "name": "stdout",
          "text": [
            "Drive already mounted at /content/drive; to attempt to forcibly remount, call drive.mount(\"/content/drive\", force_remount=True).\n"
          ]
        }
      ],
      "source": [
        "from google.colab import drive\n",
        "drive.mount('/content/drive')"
      ]
    },
    {
      "cell_type": "markdown",
      "source": [
        "## **One Hot** **Encoding**"
      ],
      "metadata": {
        "id": "4MxVVlSH3SPL"
      }
    },
    {
      "cell_type": "code",
      "source": [
        "import numpy as np\n",
        "import pandas as pd\n",
        "import pickle"
      ],
      "metadata": {
        "id": "s07Em5TxupzP"
      },
      "execution_count": null,
      "outputs": []
    },
    {
      "cell_type": "code",
      "source": [
        "data = pickle.load(open('/content/drive/MyDrive/Minor Project/30music.pkl', 'rb')).rename(columns = {'UserId': 'user_id', 'SessionId': 'session_id', 'ItemId': 'song_id', 'Time': 'time', 'ArtistId': 'artist_id'})\n",
        "data.head(5)"
      ],
      "metadata": {
        "colab": {
          "base_uri": "https://localhost:8080/",
          "height": 206
        },
        "id": "CZk04G_Vut-P",
        "outputId": "30f305f7-bd4d-4fca-b7d1-ad6a52df0d85"
      },
      "execution_count": null,
      "outputs": [
        {
          "output_type": "execute_result",
          "data": {
            "text/plain": [
              "  user_id session_id  song_id        time artist_id\n",
              "0   27063    1889046  2691760  1402997433    337496\n",
              "1   27063    1889046  2691717  1402997784    337496\n",
              "2   27063    1889046  2691636  1402998064    337496\n",
              "3   27063    1889046  2691702  1402998298    337496\n",
              "4   27063    1889046  2691783  1402998576    337496"
            ],
            "text/html": [
              "\n",
              "  <div id=\"df-dd1fff99-cdd8-4287-9d8d-e4edbfa8b6c7\">\n",
              "    <div class=\"colab-df-container\">\n",
              "      <div>\n",
              "<style scoped>\n",
              "    .dataframe tbody tr th:only-of-type {\n",
              "        vertical-align: middle;\n",
              "    }\n",
              "\n",
              "    .dataframe tbody tr th {\n",
              "        vertical-align: top;\n",
              "    }\n",
              "\n",
              "    .dataframe thead th {\n",
              "        text-align: right;\n",
              "    }\n",
              "</style>\n",
              "<table border=\"1\" class=\"dataframe\">\n",
              "  <thead>\n",
              "    <tr style=\"text-align: right;\">\n",
              "      <th></th>\n",
              "      <th>user_id</th>\n",
              "      <th>session_id</th>\n",
              "      <th>song_id</th>\n",
              "      <th>time</th>\n",
              "      <th>artist_id</th>\n",
              "    </tr>\n",
              "  </thead>\n",
              "  <tbody>\n",
              "    <tr>\n",
              "      <th>0</th>\n",
              "      <td>27063</td>\n",
              "      <td>1889046</td>\n",
              "      <td>2691760</td>\n",
              "      <td>1402997433</td>\n",
              "      <td>337496</td>\n",
              "    </tr>\n",
              "    <tr>\n",
              "      <th>1</th>\n",
              "      <td>27063</td>\n",
              "      <td>1889046</td>\n",
              "      <td>2691717</td>\n",
              "      <td>1402997784</td>\n",
              "      <td>337496</td>\n",
              "    </tr>\n",
              "    <tr>\n",
              "      <th>2</th>\n",
              "      <td>27063</td>\n",
              "      <td>1889046</td>\n",
              "      <td>2691636</td>\n",
              "      <td>1402998064</td>\n",
              "      <td>337496</td>\n",
              "    </tr>\n",
              "    <tr>\n",
              "      <th>3</th>\n",
              "      <td>27063</td>\n",
              "      <td>1889046</td>\n",
              "      <td>2691702</td>\n",
              "      <td>1402998298</td>\n",
              "      <td>337496</td>\n",
              "    </tr>\n",
              "    <tr>\n",
              "      <th>4</th>\n",
              "      <td>27063</td>\n",
              "      <td>1889046</td>\n",
              "      <td>2691783</td>\n",
              "      <td>1402998576</td>\n",
              "      <td>337496</td>\n",
              "    </tr>\n",
              "  </tbody>\n",
              "</table>\n",
              "</div>\n",
              "      <button class=\"colab-df-convert\" onclick=\"convertToInteractive('df-dd1fff99-cdd8-4287-9d8d-e4edbfa8b6c7')\"\n",
              "              title=\"Convert this dataframe to an interactive table.\"\n",
              "              style=\"display:none;\">\n",
              "        \n",
              "  <svg xmlns=\"http://www.w3.org/2000/svg\" height=\"24px\"viewBox=\"0 0 24 24\"\n",
              "       width=\"24px\">\n",
              "    <path d=\"M0 0h24v24H0V0z\" fill=\"none\"/>\n",
              "    <path d=\"M18.56 5.44l.94 2.06.94-2.06 2.06-.94-2.06-.94-.94-2.06-.94 2.06-2.06.94zm-11 1L8.5 8.5l.94-2.06 2.06-.94-2.06-.94L8.5 2.5l-.94 2.06-2.06.94zm10 10l.94 2.06.94-2.06 2.06-.94-2.06-.94-.94-2.06-.94 2.06-2.06.94z\"/><path d=\"M17.41 7.96l-1.37-1.37c-.4-.4-.92-.59-1.43-.59-.52 0-1.04.2-1.43.59L10.3 9.45l-7.72 7.72c-.78.78-.78 2.05 0 2.83L4 21.41c.39.39.9.59 1.41.59.51 0 1.02-.2 1.41-.59l7.78-7.78 2.81-2.81c.8-.78.8-2.07 0-2.86zM5.41 20L4 18.59l7.72-7.72 1.47 1.35L5.41 20z\"/>\n",
              "  </svg>\n",
              "      </button>\n",
              "      \n",
              "  <style>\n",
              "    .colab-df-container {\n",
              "      display:flex;\n",
              "      flex-wrap:wrap;\n",
              "      gap: 12px;\n",
              "    }\n",
              "\n",
              "    .colab-df-convert {\n",
              "      background-color: #E8F0FE;\n",
              "      border: none;\n",
              "      border-radius: 50%;\n",
              "      cursor: pointer;\n",
              "      display: none;\n",
              "      fill: #1967D2;\n",
              "      height: 32px;\n",
              "      padding: 0 0 0 0;\n",
              "      width: 32px;\n",
              "    }\n",
              "\n",
              "    .colab-df-convert:hover {\n",
              "      background-color: #E2EBFA;\n",
              "      box-shadow: 0px 1px 2px rgba(60, 64, 67, 0.3), 0px 1px 3px 1px rgba(60, 64, 67, 0.15);\n",
              "      fill: #174EA6;\n",
              "    }\n",
              "\n",
              "    [theme=dark] .colab-df-convert {\n",
              "      background-color: #3B4455;\n",
              "      fill: #D2E3FC;\n",
              "    }\n",
              "\n",
              "    [theme=dark] .colab-df-convert:hover {\n",
              "      background-color: #434B5C;\n",
              "      box-shadow: 0px 1px 3px 1px rgba(0, 0, 0, 0.15);\n",
              "      filter: drop-shadow(0px 1px 2px rgba(0, 0, 0, 0.3));\n",
              "      fill: #FFFFFF;\n",
              "    }\n",
              "  </style>\n",
              "\n",
              "      <script>\n",
              "        const buttonEl =\n",
              "          document.querySelector('#df-dd1fff99-cdd8-4287-9d8d-e4edbfa8b6c7 button.colab-df-convert');\n",
              "        buttonEl.style.display =\n",
              "          google.colab.kernel.accessAllowed ? 'block' : 'none';\n",
              "\n",
              "        async function convertToInteractive(key) {\n",
              "          const element = document.querySelector('#df-dd1fff99-cdd8-4287-9d8d-e4edbfa8b6c7');\n",
              "          const dataTable =\n",
              "            await google.colab.kernel.invokeFunction('convertToInteractive',\n",
              "                                                     [key], {});\n",
              "          if (!dataTable) return;\n",
              "\n",
              "          const docLinkHtml = 'Like what you see? Visit the ' +\n",
              "            '<a target=\"_blank\" href=https://colab.research.google.com/notebooks/data_table.ipynb>data table notebook</a>'\n",
              "            + ' to learn more about interactive tables.';\n",
              "          element.innerHTML = '';\n",
              "          dataTable['output_type'] = 'display_data';\n",
              "          await google.colab.output.renderOutput(dataTable, element);\n",
              "          const docLink = document.createElement('div');\n",
              "          docLink.innerHTML = docLinkHtml;\n",
              "          element.appendChild(docLink);\n",
              "        }\n",
              "      </script>\n",
              "    </div>\n",
              "  </div>\n",
              "  "
            ]
          },
          "metadata": {},
          "execution_count": 40
        }
      ]
    },
    {
      "cell_type": "code",
      "source": [
        "words = list(data['song_id'].unique())"
      ],
      "metadata": {
        "id": "iDE5T7S621pG"
      },
      "execution_count": null,
      "outputs": []
    },
    {
      "cell_type": "code",
      "source": [
        "len(data['song_id'].unique())"
      ],
      "metadata": {
        "colab": {
          "base_uri": "https://localhost:8080/"
        },
        "id": "TH70U5e-u2go",
        "outputId": "e2118b43-16f5-43d3-9b95-4d110576fd84"
      },
      "execution_count": null,
      "outputs": [
        {
          "output_type": "execute_result",
          "data": {
            "text/plain": [
              "4522"
            ]
          },
          "metadata": {},
          "execution_count": 42
        }
      ]
    },
    {
      "cell_type": "code",
      "source": [
        "session_lengths = data.groupby('session_id').size()\n",
        "data.shape, session_lengths"
      ],
      "metadata": {
        "colab": {
          "base_uri": "https://localhost:8080/"
        },
        "id": "7eRoC1MUvESa",
        "outputId": "e7feae66-0ef9-47de-8bde-44273d197e68"
      },
      "execution_count": null,
      "outputs": [
        {
          "output_type": "execute_result",
          "data": {
            "text/plain": [
              "((6000, 5),\n",
              " session_id\n",
              " 1047030     11\n",
              " 1047034     11\n",
              " 1072002     12\n",
              " 1072005     12\n",
              " 1072007      5\n",
              "           ... \n",
              " 995801      40\n",
              " 995802      14\n",
              " 995803      11\n",
              " 995804     121\n",
              " 995805       4\n",
              " Length: 342, dtype: int64)"
            ]
          },
          "metadata": {},
          "execution_count": 43
        }
      ]
    },
    {
      "cell_type": "code",
      "source": [
        "data = data[np.in1d(data.session_id, session_lengths[session_lengths>1].index)]\n",
        "item_supports = data.groupby('song_id').size()\n",
        "data = data[np.in1d(data.song_id, item_supports[item_supports>=5].index)]\n",
        "session_lengths = data.groupby('session_id').size()\n",
        "data1 = data[np.in1d(data.session_id, session_lengths[session_lengths>=2].index)]"
      ],
      "metadata": {
        "id": "ZZxEz-BbvGuL"
      },
      "execution_count": null,
      "outputs": []
    },
    {
      "cell_type": "code",
      "source": [
        "groups = data1.groupby('session_id')\n",
        "aggregated = groups['song_id'].agg(sequence = lambda x: list(map(str, x)))\n",
        "init_ts = groups['time'].min()\n",
        "users = groups['user_id'].min()\n",
        "data = aggregated.join(init_ts).join(users)\n",
        "data.reset_index(inplace=True)\n",
        "data.head()"
      ],
      "metadata": {
        "colab": {
          "base_uri": "https://localhost:8080/",
          "height": 206
        },
        "id": "YxYdu3aHvK5o",
        "outputId": "5c36f901-a1af-4f53-8f79-09824dec4224"
      },
      "execution_count": null,
      "outputs": [
        {
          "output_type": "execute_result",
          "data": {
            "text/plain": [
              "  session_id                                           sequence        time  \\\n",
              "0    1072002                                   [314212, 136742]  1395868047   \n",
              "1    1072005                           [314212, 314212, 314212]  1395931174   \n",
              "2    1072041  [1326519, 1326519, 1326519, 1326519, 1326519, ...  1413223078   \n",
              "3    1072042  [2114962, 1326011, 1326011, 1326011, 2114962, ...  1414338820   \n",
              "4    1072043      [3765734, 3765734, 3765734, 3765734, 3765734]  1414347903   \n",
              "\n",
              "  user_id  \n",
              "0   21212  \n",
              "1   21212  \n",
              "2   21212  \n",
              "3   21212  \n",
              "4   21212  "
            ],
            "text/html": [
              "\n",
              "  <div id=\"df-1bacc90b-b8ad-481d-8fae-8883cf5958a9\">\n",
              "    <div class=\"colab-df-container\">\n",
              "      <div>\n",
              "<style scoped>\n",
              "    .dataframe tbody tr th:only-of-type {\n",
              "        vertical-align: middle;\n",
              "    }\n",
              "\n",
              "    .dataframe tbody tr th {\n",
              "        vertical-align: top;\n",
              "    }\n",
              "\n",
              "    .dataframe thead th {\n",
              "        text-align: right;\n",
              "    }\n",
              "</style>\n",
              "<table border=\"1\" class=\"dataframe\">\n",
              "  <thead>\n",
              "    <tr style=\"text-align: right;\">\n",
              "      <th></th>\n",
              "      <th>session_id</th>\n",
              "      <th>sequence</th>\n",
              "      <th>time</th>\n",
              "      <th>user_id</th>\n",
              "    </tr>\n",
              "  </thead>\n",
              "  <tbody>\n",
              "    <tr>\n",
              "      <th>0</th>\n",
              "      <td>1072002</td>\n",
              "      <td>[314212, 136742]</td>\n",
              "      <td>1395868047</td>\n",
              "      <td>21212</td>\n",
              "    </tr>\n",
              "    <tr>\n",
              "      <th>1</th>\n",
              "      <td>1072005</td>\n",
              "      <td>[314212, 314212, 314212]</td>\n",
              "      <td>1395931174</td>\n",
              "      <td>21212</td>\n",
              "    </tr>\n",
              "    <tr>\n",
              "      <th>2</th>\n",
              "      <td>1072041</td>\n",
              "      <td>[1326519, 1326519, 1326519, 1326519, 1326519, ...</td>\n",
              "      <td>1413223078</td>\n",
              "      <td>21212</td>\n",
              "    </tr>\n",
              "    <tr>\n",
              "      <th>3</th>\n",
              "      <td>1072042</td>\n",
              "      <td>[2114962, 1326011, 1326011, 1326011, 2114962, ...</td>\n",
              "      <td>1414338820</td>\n",
              "      <td>21212</td>\n",
              "    </tr>\n",
              "    <tr>\n",
              "      <th>4</th>\n",
              "      <td>1072043</td>\n",
              "      <td>[3765734, 3765734, 3765734, 3765734, 3765734]</td>\n",
              "      <td>1414347903</td>\n",
              "      <td>21212</td>\n",
              "    </tr>\n",
              "  </tbody>\n",
              "</table>\n",
              "</div>\n",
              "      <button class=\"colab-df-convert\" onclick=\"convertToInteractive('df-1bacc90b-b8ad-481d-8fae-8883cf5958a9')\"\n",
              "              title=\"Convert this dataframe to an interactive table.\"\n",
              "              style=\"display:none;\">\n",
              "        \n",
              "  <svg xmlns=\"http://www.w3.org/2000/svg\" height=\"24px\"viewBox=\"0 0 24 24\"\n",
              "       width=\"24px\">\n",
              "    <path d=\"M0 0h24v24H0V0z\" fill=\"none\"/>\n",
              "    <path d=\"M18.56 5.44l.94 2.06.94-2.06 2.06-.94-2.06-.94-.94-2.06-.94 2.06-2.06.94zm-11 1L8.5 8.5l.94-2.06 2.06-.94-2.06-.94L8.5 2.5l-.94 2.06-2.06.94zm10 10l.94 2.06.94-2.06 2.06-.94-2.06-.94-.94-2.06-.94 2.06-2.06.94z\"/><path d=\"M17.41 7.96l-1.37-1.37c-.4-.4-.92-.59-1.43-.59-.52 0-1.04.2-1.43.59L10.3 9.45l-7.72 7.72c-.78.78-.78 2.05 0 2.83L4 21.41c.39.39.9.59 1.41.59.51 0 1.02-.2 1.41-.59l7.78-7.78 2.81-2.81c.8-.78.8-2.07 0-2.86zM5.41 20L4 18.59l7.72-7.72 1.47 1.35L5.41 20z\"/>\n",
              "  </svg>\n",
              "      </button>\n",
              "      \n",
              "  <style>\n",
              "    .colab-df-container {\n",
              "      display:flex;\n",
              "      flex-wrap:wrap;\n",
              "      gap: 12px;\n",
              "    }\n",
              "\n",
              "    .colab-df-convert {\n",
              "      background-color: #E8F0FE;\n",
              "      border: none;\n",
              "      border-radius: 50%;\n",
              "      cursor: pointer;\n",
              "      display: none;\n",
              "      fill: #1967D2;\n",
              "      height: 32px;\n",
              "      padding: 0 0 0 0;\n",
              "      width: 32px;\n",
              "    }\n",
              "\n",
              "    .colab-df-convert:hover {\n",
              "      background-color: #E2EBFA;\n",
              "      box-shadow: 0px 1px 2px rgba(60, 64, 67, 0.3), 0px 1px 3px 1px rgba(60, 64, 67, 0.15);\n",
              "      fill: #174EA6;\n",
              "    }\n",
              "\n",
              "    [theme=dark] .colab-df-convert {\n",
              "      background-color: #3B4455;\n",
              "      fill: #D2E3FC;\n",
              "    }\n",
              "\n",
              "    [theme=dark] .colab-df-convert:hover {\n",
              "      background-color: #434B5C;\n",
              "      box-shadow: 0px 1px 3px 1px rgba(0, 0, 0, 0.15);\n",
              "      filter: drop-shadow(0px 1px 2px rgba(0, 0, 0, 0.3));\n",
              "      fill: #FFFFFF;\n",
              "    }\n",
              "  </style>\n",
              "\n",
              "      <script>\n",
              "        const buttonEl =\n",
              "          document.querySelector('#df-1bacc90b-b8ad-481d-8fae-8883cf5958a9 button.colab-df-convert');\n",
              "        buttonEl.style.display =\n",
              "          google.colab.kernel.accessAllowed ? 'block' : 'none';\n",
              "\n",
              "        async function convertToInteractive(key) {\n",
              "          const element = document.querySelector('#df-1bacc90b-b8ad-481d-8fae-8883cf5958a9');\n",
              "          const dataTable =\n",
              "            await google.colab.kernel.invokeFunction('convertToInteractive',\n",
              "                                                     [key], {});\n",
              "          if (!dataTable) return;\n",
              "\n",
              "          const docLinkHtml = 'Like what you see? Visit the ' +\n",
              "            '<a target=\"_blank\" href=https://colab.research.google.com/notebooks/data_table.ipynb>data table notebook</a>'\n",
              "            + ' to learn more about interactive tables.';\n",
              "          element.innerHTML = '';\n",
              "          dataTable['output_type'] = 'display_data';\n",
              "          await google.colab.output.renderOutput(dataTable, element);\n",
              "          const docLink = document.createElement('div');\n",
              "          docLink.innerHTML = docLinkHtml;\n",
              "          element.appendChild(docLink);\n",
              "        }\n",
              "      </script>\n",
              "    </div>\n",
              "  </div>\n",
              "  "
            ]
          },
          "metadata": {},
          "execution_count": 45
        }
      ]
    },
    {
      "cell_type": "code",
      "source": [
        "from collections import Counter\n",
        "cnt = Counter()\n",
        "data.sequence.map(cnt.update)"
      ],
      "metadata": {
        "id": "j_GyAxx_vL4F",
        "colab": {
          "base_uri": "https://localhost:8080/"
        },
        "outputId": "5413f64e-87f9-478b-aa1c-e0ba8a9973d9"
      },
      "execution_count": null,
      "outputs": [
        {
          "output_type": "execute_result",
          "data": {
            "text/plain": [
              "0     None\n",
              "1     None\n",
              "2     None\n",
              "3     None\n",
              "4     None\n",
              "5     None\n",
              "6     None\n",
              "7     None\n",
              "8     None\n",
              "9     None\n",
              "10    None\n",
              "11    None\n",
              "12    None\n",
              "13    None\n",
              "14    None\n",
              "15    None\n",
              "16    None\n",
              "17    None\n",
              "18    None\n",
              "19    None\n",
              "20    None\n",
              "21    None\n",
              "22    None\n",
              "23    None\n",
              "24    None\n",
              "25    None\n",
              "26    None\n",
              "27    None\n",
              "28    None\n",
              "29    None\n",
              "30    None\n",
              "31    None\n",
              "32    None\n",
              "33    None\n",
              "34    None\n",
              "35    None\n",
              "36    None\n",
              "37    None\n",
              "38    None\n",
              "39    None\n",
              "40    None\n",
              "41    None\n",
              "42    None\n",
              "43    None\n",
              "44    None\n",
              "Name: sequence, dtype: object"
            ]
          },
          "metadata": {},
          "execution_count": 46
        }
      ]
    },
    {
      "cell_type": "code",
      "source": [
        "sequence_length = data.sequence.map(len).values\n",
        "n_sessions_per_user = data.groupby('user_id').size()"
      ],
      "metadata": {
        "id": "R9FUPCevvOc9"
      },
      "execution_count": null,
      "outputs": []
    },
    {
      "cell_type": "code",
      "source": [
        "print('Number of items: {}'.format(len(cnt)))\n",
        "print('Number of users: {}'.format(data.user_id.nunique()))\n",
        "print('Number of sessions: {}'.format(len(data)))\n",
        "print('\\nSession length:\\n\\tAverage: {:.2f}\\n\\tMedian: {}\\n\\tMin: {}\\n\\tMax: {}'.format(\n",
        "    sequence_length.mean(), \n",
        "    np.quantile(sequence_length, 0.5), \n",
        "    sequence_length.min(), \n",
        "    sequence_length.max()))\n",
        "print('Sessions per user:\\n\\tAverage: {:.2f}\\n\\tMedian: {}\\n\\tMin: {}\\n\\tMax: {}'.format(\n",
        "    n_sessions_per_user.mean(), \n",
        "    np.quantile(n_sessions_per_user, 0.5), \n",
        "    n_sessions_per_user.min(), \n",
        "    n_sessions_per_user.max()))"
      ],
      "metadata": {
        "colab": {
          "base_uri": "https://localhost:8080/"
        },
        "id": "ii2OOjn2vRNt",
        "outputId": "f24775ee-84d5-4333-94ab-c7a6355d7fd1"
      },
      "execution_count": null,
      "outputs": [
        {
          "output_type": "stream",
          "name": "stdout",
          "text": [
            "Number of items: 51\n",
            "Number of users: 15\n",
            "Number of sessions: 45\n",
            "\n",
            "Session length:\n",
            "\tAverage: 7.42\n",
            "\tMedian: 4.0\n",
            "\tMin: 2\n",
            "\tMax: 67\n",
            "Sessions per user:\n",
            "\tAverage: 3.00\n",
            "\tMedian: 2.0\n",
            "\tMin: 1\n",
            "\tMax: 11\n"
          ]
        }
      ]
    },
    {
      "cell_type": "code",
      "source": [
        "dictList = data['sequence']\n",
        "for i in range(0,len(dictList)):\n",
        "        if len(dictList[i])<6:\n",
        "            w=6-len(dictList[i])\n",
        "            dictList[i]=['10000']*w+dictList[i]\n",
        "\n",
        "data['sequence'] = dictList\n",
        "\n",
        "data.head()"
      ],
      "metadata": {
        "colab": {
          "base_uri": "https://localhost:8080/",
          "height": 206
        },
        "id": "u8GA686WvTm8",
        "outputId": "f8bcac17-3ec8-4182-a6c6-e603cc69d585"
      },
      "execution_count": null,
      "outputs": [
        {
          "output_type": "execute_result",
          "data": {
            "text/plain": [
              "  session_id                                           sequence        time  \\\n",
              "0    1072002       [10000, 10000, 10000, 10000, 314212, 136742]  1395868047   \n",
              "1    1072005      [10000, 10000, 10000, 314212, 314212, 314212]  1395931174   \n",
              "2    1072041  [1326519, 1326519, 1326519, 1326519, 1326519, ...  1413223078   \n",
              "3    1072042  [2114962, 1326011, 1326011, 1326011, 2114962, ...  1414338820   \n",
              "4    1072043  [10000, 3765734, 3765734, 3765734, 3765734, 37...  1414347903   \n",
              "\n",
              "  user_id  \n",
              "0   21212  \n",
              "1   21212  \n",
              "2   21212  \n",
              "3   21212  \n",
              "4   21212  "
            ],
            "text/html": [
              "\n",
              "  <div id=\"df-248a2257-5fc3-4a08-afa8-6e70b2606735\">\n",
              "    <div class=\"colab-df-container\">\n",
              "      <div>\n",
              "<style scoped>\n",
              "    .dataframe tbody tr th:only-of-type {\n",
              "        vertical-align: middle;\n",
              "    }\n",
              "\n",
              "    .dataframe tbody tr th {\n",
              "        vertical-align: top;\n",
              "    }\n",
              "\n",
              "    .dataframe thead th {\n",
              "        text-align: right;\n",
              "    }\n",
              "</style>\n",
              "<table border=\"1\" class=\"dataframe\">\n",
              "  <thead>\n",
              "    <tr style=\"text-align: right;\">\n",
              "      <th></th>\n",
              "      <th>session_id</th>\n",
              "      <th>sequence</th>\n",
              "      <th>time</th>\n",
              "      <th>user_id</th>\n",
              "    </tr>\n",
              "  </thead>\n",
              "  <tbody>\n",
              "    <tr>\n",
              "      <th>0</th>\n",
              "      <td>1072002</td>\n",
              "      <td>[10000, 10000, 10000, 10000, 314212, 136742]</td>\n",
              "      <td>1395868047</td>\n",
              "      <td>21212</td>\n",
              "    </tr>\n",
              "    <tr>\n",
              "      <th>1</th>\n",
              "      <td>1072005</td>\n",
              "      <td>[10000, 10000, 10000, 314212, 314212, 314212]</td>\n",
              "      <td>1395931174</td>\n",
              "      <td>21212</td>\n",
              "    </tr>\n",
              "    <tr>\n",
              "      <th>2</th>\n",
              "      <td>1072041</td>\n",
              "      <td>[1326519, 1326519, 1326519, 1326519, 1326519, ...</td>\n",
              "      <td>1413223078</td>\n",
              "      <td>21212</td>\n",
              "    </tr>\n",
              "    <tr>\n",
              "      <th>3</th>\n",
              "      <td>1072042</td>\n",
              "      <td>[2114962, 1326011, 1326011, 1326011, 2114962, ...</td>\n",
              "      <td>1414338820</td>\n",
              "      <td>21212</td>\n",
              "    </tr>\n",
              "    <tr>\n",
              "      <th>4</th>\n",
              "      <td>1072043</td>\n",
              "      <td>[10000, 3765734, 3765734, 3765734, 3765734, 37...</td>\n",
              "      <td>1414347903</td>\n",
              "      <td>21212</td>\n",
              "    </tr>\n",
              "  </tbody>\n",
              "</table>\n",
              "</div>\n",
              "      <button class=\"colab-df-convert\" onclick=\"convertToInteractive('df-248a2257-5fc3-4a08-afa8-6e70b2606735')\"\n",
              "              title=\"Convert this dataframe to an interactive table.\"\n",
              "              style=\"display:none;\">\n",
              "        \n",
              "  <svg xmlns=\"http://www.w3.org/2000/svg\" height=\"24px\"viewBox=\"0 0 24 24\"\n",
              "       width=\"24px\">\n",
              "    <path d=\"M0 0h24v24H0V0z\" fill=\"none\"/>\n",
              "    <path d=\"M18.56 5.44l.94 2.06.94-2.06 2.06-.94-2.06-.94-.94-2.06-.94 2.06-2.06.94zm-11 1L8.5 8.5l.94-2.06 2.06-.94-2.06-.94L8.5 2.5l-.94 2.06-2.06.94zm10 10l.94 2.06.94-2.06 2.06-.94-2.06-.94-.94-2.06-.94 2.06-2.06.94z\"/><path d=\"M17.41 7.96l-1.37-1.37c-.4-.4-.92-.59-1.43-.59-.52 0-1.04.2-1.43.59L10.3 9.45l-7.72 7.72c-.78.78-.78 2.05 0 2.83L4 21.41c.39.39.9.59 1.41.59.51 0 1.02-.2 1.41-.59l7.78-7.78 2.81-2.81c.8-.78.8-2.07 0-2.86zM5.41 20L4 18.59l7.72-7.72 1.47 1.35L5.41 20z\"/>\n",
              "  </svg>\n",
              "      </button>\n",
              "      \n",
              "  <style>\n",
              "    .colab-df-container {\n",
              "      display:flex;\n",
              "      flex-wrap:wrap;\n",
              "      gap: 12px;\n",
              "    }\n",
              "\n",
              "    .colab-df-convert {\n",
              "      background-color: #E8F0FE;\n",
              "      border: none;\n",
              "      border-radius: 50%;\n",
              "      cursor: pointer;\n",
              "      display: none;\n",
              "      fill: #1967D2;\n",
              "      height: 32px;\n",
              "      padding: 0 0 0 0;\n",
              "      width: 32px;\n",
              "    }\n",
              "\n",
              "    .colab-df-convert:hover {\n",
              "      background-color: #E2EBFA;\n",
              "      box-shadow: 0px 1px 2px rgba(60, 64, 67, 0.3), 0px 1px 3px 1px rgba(60, 64, 67, 0.15);\n",
              "      fill: #174EA6;\n",
              "    }\n",
              "\n",
              "    [theme=dark] .colab-df-convert {\n",
              "      background-color: #3B4455;\n",
              "      fill: #D2E3FC;\n",
              "    }\n",
              "\n",
              "    [theme=dark] .colab-df-convert:hover {\n",
              "      background-color: #434B5C;\n",
              "      box-shadow: 0px 1px 3px 1px rgba(0, 0, 0, 0.15);\n",
              "      filter: drop-shadow(0px 1px 2px rgba(0, 0, 0, 0.3));\n",
              "      fill: #FFFFFF;\n",
              "    }\n",
              "  </style>\n",
              "\n",
              "      <script>\n",
              "        const buttonEl =\n",
              "          document.querySelector('#df-248a2257-5fc3-4a08-afa8-6e70b2606735 button.colab-df-convert');\n",
              "        buttonEl.style.display =\n",
              "          google.colab.kernel.accessAllowed ? 'block' : 'none';\n",
              "\n",
              "        async function convertToInteractive(key) {\n",
              "          const element = document.querySelector('#df-248a2257-5fc3-4a08-afa8-6e70b2606735');\n",
              "          const dataTable =\n",
              "            await google.colab.kernel.invokeFunction('convertToInteractive',\n",
              "                                                     [key], {});\n",
              "          if (!dataTable) return;\n",
              "\n",
              "          const docLinkHtml = 'Like what you see? Visit the ' +\n",
              "            '<a target=\"_blank\" href=https://colab.research.google.com/notebooks/data_table.ipynb>data table notebook</a>'\n",
              "            + ' to learn more about interactive tables.';\n",
              "          element.innerHTML = '';\n",
              "          dataTable['output_type'] = 'display_data';\n",
              "          await google.colab.output.renderOutput(dataTable, element);\n",
              "          const docLink = document.createElement('div');\n",
              "          docLink.innerHTML = docLinkHtml;\n",
              "          element.appendChild(docLink);\n",
              "        }\n",
              "      </script>\n",
              "    </div>\n",
              "  </div>\n",
              "  "
            ]
          },
          "metadata": {},
          "execution_count": 49
        }
      ]
    },
    {
      "cell_type": "code",
      "source": [
        "from nltk.tokenize import sent_tokenize, word_tokenize"
      ],
      "metadata": {
        "id": "ZqaE_Uzq0XOJ"
      },
      "execution_count": null,
      "outputs": []
    },
    {
      "cell_type": "code",
      "source": [
        "x = []\n",
        "for l in data['sequence']:\n",
        "  for e in l:\n",
        "    x.append(e)\n",
        "x = list(set(x))"
      ],
      "metadata": {
        "id": "WL2RZfoR4x14"
      },
      "execution_count": null,
      "outputs": []
    },
    {
      "cell_type": "code",
      "source": [
        "if '10000' in x:\n",
        "  print('YES')"
      ],
      "metadata": {
        "colab": {
          "base_uri": "https://localhost:8080/"
        },
        "id": "cH25GSgI5jXv",
        "outputId": "ae432b73-4b8a-4201-ccdc-7c04591728f9"
      },
      "execution_count": null,
      "outputs": [
        {
          "output_type": "stream",
          "name": "stdout",
          "text": [
            "YES\n"
          ]
        }
      ]
    },
    {
      "cell_type": "code",
      "source": [
        "m = {}\n",
        "for i, w in enumerate(x):\n",
        "  m[w] = i"
      ],
      "metadata": {
        "id": "2m3ODW090YdJ"
      },
      "execution_count": null,
      "outputs": []
    },
    {
      "cell_type": "code",
      "source": [
        "def get_vector(unq, i):\n",
        "  lst = [0 for j in range(unq)]\n",
        "  lst[i] = 1\n",
        "  return lst"
      ],
      "metadata": {
        "id": "_q-HGoJe3iVg"
      },
      "execution_count": null,
      "outputs": []
    },
    {
      "cell_type": "code",
      "source": [
        "a = data['sequence']\n",
        "one_hot = []\n",
        "for i in range(len(a)):\n",
        "    # print(str(i)+':')\n",
        "    seq = a[i]\n",
        "    seq_vector = []\n",
        "    for j in range(len(seq)):\n",
        "        # print(j)\n",
        "        item = seq[j]\n",
        "        seq_vector.append(get_vector(len(words), m[item]))\n",
        "    one_hot.append(seq_vector)\n",
        "\n",
        "data['one_hot'] = one_hot"
      ],
      "metadata": {
        "id": "CpP6GgNs3Kn6"
      },
      "execution_count": null,
      "outputs": []
    },
    {
      "cell_type": "code",
      "source": [
        "X = []\n",
        "\n",
        "for i in range(len(one_hot)):\n",
        "    seq = one_hot[i]\n",
        "    if len(seq)>= 5:\n",
        "        for j in range(0,(len(seq)-5)):  \n",
        "            X.append(seq[j:j+5])\n",
        "            #y.append(seq[j+5])\n",
        "\n",
        "X = np.array(X)\n",
        "\n",
        "X.shape"
      ],
      "metadata": {
        "colab": {
          "base_uri": "https://localhost:8080/"
        },
        "id": "LDy4XjHM4FoK",
        "outputId": "3d2857dc-7f46-4db9-8d4e-3434983f23b2"
      },
      "execution_count": null,
      "outputs": [
        {
          "output_type": "execute_result",
          "data": {
            "text/plain": [
              "(195, 5, 4522)"
            ]
          },
          "metadata": {},
          "execution_count": 56
        }
      ]
    },
    {
      "cell_type": "code",
      "source": [
        "v = data['sequence'].tolist()\n",
        "y = []\n",
        "for i in range(len(v)):\n",
        "    seq = v[i]\n",
        "    if len(seq)>= 5:\n",
        "        for j in range(0,(len(seq)-5)):  \n",
        "            #X.append(seq[j:j+5])\n",
        "            y.append(seq[j+5])"
      ],
      "metadata": {
        "id": "rp_5Y2vk6QK_"
      },
      "execution_count": null,
      "outputs": []
    },
    {
      "cell_type": "code",
      "source": [
        "y = list(map(int, y))\n",
        "label_encoding_data = list(m)\n",
        "from sklearn.preprocessing import LabelEncoder\n",
        "product_label=LabelEncoder()\n",
        "product_label.fit(label_encoding_data)\n",
        "y = product_label.transform(y)\n",
        "\n",
        "type(y), max(y)"
      ],
      "metadata": {
        "colab": {
          "base_uri": "https://localhost:8080/"
        },
        "id": "fql2zEVx6SWL",
        "outputId": "5731b2aa-7790-40c4-e1a9-c838ede023f5"
      },
      "execution_count": null,
      "outputs": [
        {
          "output_type": "execute_result",
          "data": {
            "text/plain": [
              "(numpy.ndarray, 51)"
            ]
          },
          "metadata": {},
          "execution_count": 58
        }
      ]
    },
    {
      "cell_type": "code",
      "source": [
        "from sklearn.preprocessing import MinMaxScaler\n",
        "scaler = MinMaxScaler()\n",
        "X = scaler.fit_transform(X.reshape(X.shape[0], -1)).reshape(X.shape)"
      ],
      "metadata": {
        "id": "tPkqqdoF6U4S"
      },
      "execution_count": null,
      "outputs": []
    },
    {
      "cell_type": "code",
      "source": [
        "from sklearn.model_selection import train_test_split\n",
        "X_train, X_test, y_train, y_test = train_test_split(X, y, test_size=0.2, random_state=1)"
      ],
      "metadata": {
        "id": "KOQOAgle6dMM"
      },
      "execution_count": null,
      "outputs": []
    },
    {
      "cell_type": "code",
      "source": [
        "from numpy import array\n",
        "from keras.models import Sequential\n",
        "from keras.layers import Dense\n",
        "from keras.layers import Flatten,Reshape\n",
        "from keras.layers.convolutional import Conv1D, Conv2D\n",
        "from keras.layers.convolutional import MaxPooling1D, MaxPooling2D\n",
        "import tensorflow as tf\n",
        "from keras.models import Model"
      ],
      "metadata": {
        "id": "NFmiQxIS7xQ6"
      },
      "execution_count": null,
      "outputs": []
    },
    {
      "cell_type": "code",
      "source": [
        "tf.config.run_functions_eagerly(True)"
      ],
      "metadata": {
        "id": "e9pij1obzlHU"
      },
      "execution_count": null,
      "outputs": []
    },
    {
      "cell_type": "code",
      "source": [
        "n_steps=5\n",
        "n_features=50\n",
        "batch_size=32\n",
        "total_vocab=len(m)"
      ],
      "metadata": {
        "id": "0oXyGu6E78EF"
      },
      "execution_count": null,
      "outputs": []
    },
    {
      "cell_type": "code",
      "source": [
        "# define model\n",
        "# vertical_model = Sequential()\n",
        "first_input = Input(shape=(n_steps, n_features, 1))\n",
        "vertical_model = Conv2D(filters=512, kernel_size=(5,1), activation='relu', padding='valid')(first_input)\n",
        "vertical_model = Reshape(target_shape = (vertical_model.shape[2], vertical_model.shape[3]))(vertical_model)\n",
        "vertical_model = MaxPooling1D(pool_size = vertical_model.shape[1])(vertical_model)\n",
        "vertical_model = Flatten()(vertical_model)\n",
        "\n",
        "# horizontal_model = Sequential()\n",
        "second_input = Input(shape=(n_steps, n_features, 1))\n",
        "horizontal_model = Conv2D(filters=512, kernel_size=(3,50), activation='relu', padding='valid')(second_input)\n",
        "# print(horizontal_model.shape)\n",
        "horizontal_model = Reshape(target_shape = (horizontal_model.shape[1]*horizontal_model.shape[2], horizontal_model.shape[3]))(horizontal_model)\n",
        "horizontal_model = MaxPooling1D(pool_size = horizontal_model.shape[1])(horizontal_model)\n",
        "horizontal_model = Flatten()(horizontal_model)\n",
        "\n",
        "# merge_model = Sequential()\n",
        "merged = tf.keras.layers.Concatenate()([vertical_model, horizontal_model])\n",
        "# merge_model.add(merged)\n",
        "\n",
        "merge_model = Dense(256, activation='relu')(merged)\n",
        "merge_model = Dense(64, activation='relu')(merged)\n",
        "merge_model = Dense(total_vocab, activation='softmax')(merge_model)\n",
        "model = Model(inputs = [first_input, second_input], outputs = merge_model)\n",
        "\n",
        "model.compile(optimizer='adam', loss='sparse_categorical_crossentropy',metrics=['accuracy'])\n",
        "model.summary()"
      ],
      "metadata": {
        "colab": {
          "base_uri": "https://localhost:8080/"
        },
        "id": "GiZo3FaV8ACx",
        "outputId": "93dc1351-9f94-4ad6-ac64-6177139ab1d3"
      },
      "execution_count": null,
      "outputs": [
        {
          "output_type": "stream",
          "name": "stdout",
          "text": [
            "Model: \"sequential_5\"\n",
            "_________________________________________________________________\n",
            " Layer (type)                Output Shape              Param #   \n",
            "=================================================================\n",
            " conv2d_5 (Conv2D)           (None, 3, 1, 512)         77312     \n",
            "                                                                 \n",
            " reshape_1 (Reshape)         (None, 3, 512)            0         \n",
            "                                                                 \n",
            " max_pooling1d (MaxPooling1D  (None, 1, 512)           0         \n",
            " )                                                               \n",
            "                                                                 \n",
            " flatten_4 (Flatten)         (None, 512)               0         \n",
            "                                                                 \n",
            " dense_8 (Dense)             (None, 50)                25650     \n",
            "                                                                 \n",
            " dense_9 (Dense)             (None, 52)                2652      \n",
            "                                                                 \n",
            "=================================================================\n",
            "Total params: 105,614\n",
            "Trainable params: 105,614\n",
            "Non-trainable params: 0\n",
            "_________________________________________________________________\n"
          ]
        }
      ]
    },
    {
      "cell_type": "code",
      "source": [
        "# fit model\n",
        "history = model.fit([X_train, X_train], \n",
        "          y_train, \n",
        "          epochs=50,\n",
        "          validation_split=0.1,\n",
        "          verbose=2)"
      ],
      "metadata": {
        "colab": {
          "base_uri": "https://localhost:8080/"
        },
        "id": "f88bTNF98C9G",
        "outputId": "a3ad83c9-4a67-487f-fac8-47d2fd7828da"
      },
      "execution_count": null,
      "outputs": [
        {
          "output_type": "stream",
          "name": "stdout",
          "text": [
            "Epoch 1/35\n",
            "4/4 - 5s - loss: 3.9108 - accuracy: 0.0968 - val_loss: 3.8152 - val_accuracy: 0.0312 - 5s/epoch - 1s/step\n",
            "Epoch 2/35\n",
            "4/4 - 3s - loss: 3.8172 - accuracy: 0.0887 - val_loss: 3.7780 - val_accuracy: 0.0312 - 3s/epoch - 732ms/step\n",
            "Epoch 3/35\n",
            "4/4 - 3s - loss: 3.7295 - accuracy: 0.1290 - val_loss: 3.6514 - val_accuracy: 0.0312 - 3s/epoch - 764ms/step\n",
            "Epoch 4/35\n",
            "4/4 - 5s - loss: 3.6731 - accuracy: 0.0887 - val_loss: 3.5978 - val_accuracy: 0.0625 - 5s/epoch - 1s/step\n",
            "Epoch 5/35\n",
            "4/4 - 3s - loss: 3.5513 - accuracy: 0.1694 - val_loss: 3.6004 - val_accuracy: 0.1875 - 3s/epoch - 741ms/step\n",
            "Epoch 6/35\n",
            "4/4 - 3s - loss: 3.4241 - accuracy: 0.2097 - val_loss: 3.5121 - val_accuracy: 0.0312 - 3s/epoch - 731ms/step\n",
            "Epoch 7/35\n",
            "4/4 - 3s - loss: 3.3353 - accuracy: 0.0968 - val_loss: 3.4407 - val_accuracy: 0.0938 - 3s/epoch - 733ms/step\n",
            "Epoch 8/35\n",
            "4/4 - 4s - loss: 3.1734 - accuracy: 0.2661 - val_loss: 3.3298 - val_accuracy: 0.2812 - 4s/epoch - 1s/step\n",
            "Epoch 9/35\n",
            "4/4 - 4s - loss: 3.0206 - accuracy: 0.3871 - val_loss: 3.2397 - val_accuracy: 0.1875 - 4s/epoch - 926ms/step\n",
            "Epoch 10/35\n",
            "4/4 - 3s - loss: 2.8894 - accuracy: 0.3468 - val_loss: 3.1038 - val_accuracy: 0.2812 - 3s/epoch - 731ms/step\n",
            "Epoch 11/35\n",
            "4/4 - 3s - loss: 2.7036 - accuracy: 0.4516 - val_loss: 2.9798 - val_accuracy: 0.2500 - 3s/epoch - 735ms/step\n",
            "Epoch 12/35\n",
            "4/4 - 3s - loss: 2.5383 - accuracy: 0.5081 - val_loss: 2.8797 - val_accuracy: 0.3438 - 3s/epoch - 831ms/step\n",
            "Epoch 13/35\n",
            "4/4 - 4s - loss: 2.4021 - accuracy: 0.5323 - val_loss: 2.7769 - val_accuracy: 0.3750 - 4s/epoch - 1s/step\n",
            "Epoch 14/35\n",
            "4/4 - 3s - loss: 2.2484 - accuracy: 0.5484 - val_loss: 2.6806 - val_accuracy: 0.3750 - 3s/epoch - 738ms/step\n",
            "Epoch 15/35\n",
            "4/4 - 3s - loss: 2.1180 - accuracy: 0.5403 - val_loss: 2.5831 - val_accuracy: 0.4062 - 3s/epoch - 737ms/step\n",
            "Epoch 16/35\n",
            "4/4 - 3s - loss: 1.9778 - accuracy: 0.5565 - val_loss: 2.5461 - val_accuracy: 0.4062 - 3s/epoch - 732ms/step\n",
            "Epoch 17/35\n",
            "4/4 - 4s - loss: 1.8461 - accuracy: 0.5726 - val_loss: 2.5163 - val_accuracy: 0.4375 - 4s/epoch - 1s/step\n",
            "Epoch 18/35\n",
            "4/4 - 3s - loss: 1.7034 - accuracy: 0.5887 - val_loss: 2.5152 - val_accuracy: 0.4375 - 3s/epoch - 853ms/step\n",
            "Epoch 19/35\n",
            "4/4 - 3s - loss: 1.5889 - accuracy: 0.6129 - val_loss: 2.4738 - val_accuracy: 0.4062 - 3s/epoch - 718ms/step\n",
            "Epoch 20/35\n",
            "4/4 - 3s - loss: 1.4604 - accuracy: 0.6694 - val_loss: 2.4221 - val_accuracy: 0.3750 - 3s/epoch - 729ms/step\n",
            "Epoch 21/35\n",
            "4/4 - 4s - loss: 1.3376 - accuracy: 0.7419 - val_loss: 2.4322 - val_accuracy: 0.4062 - 4s/epoch - 914ms/step\n",
            "Epoch 22/35\n",
            "4/4 - 4s - loss: 1.2206 - accuracy: 0.7661 - val_loss: 2.4925 - val_accuracy: 0.3750 - 4s/epoch - 1s/step\n",
            "Epoch 23/35\n",
            "4/4 - 3s - loss: 1.1336 - accuracy: 0.7742 - val_loss: 2.4747 - val_accuracy: 0.3750 - 3s/epoch - 740ms/step\n",
            "Epoch 24/35\n",
            "4/4 - 3s - loss: 1.0394 - accuracy: 0.8387 - val_loss: 2.4706 - val_accuracy: 0.4375 - 3s/epoch - 740ms/step\n",
            "Epoch 25/35\n",
            "4/4 - 3s - loss: 0.9644 - accuracy: 0.8387 - val_loss: 2.5989 - val_accuracy: 0.4375 - 3s/epoch - 773ms/step\n",
            "Epoch 26/35\n",
            "4/4 - 5s - loss: 0.8641 - accuracy: 0.8548 - val_loss: 2.5358 - val_accuracy: 0.4062 - 5s/epoch - 1s/step\n",
            "Epoch 27/35\n",
            "4/4 - 3s - loss: 0.7941 - accuracy: 0.9194 - val_loss: 2.6304 - val_accuracy: 0.4062 - 3s/epoch - 732ms/step\n",
            "Epoch 28/35\n",
            "4/4 - 3s - loss: 0.7221 - accuracy: 0.9194 - val_loss: 2.5745 - val_accuracy: 0.4375 - 3s/epoch - 729ms/step\n",
            "Epoch 29/35\n",
            "4/4 - 3s - loss: 0.6694 - accuracy: 0.9274 - val_loss: 2.6167 - val_accuracy: 0.4375 - 3s/epoch - 737ms/step\n",
            "Epoch 30/35\n",
            "4/4 - 4s - loss: 0.6111 - accuracy: 0.9355 - val_loss: 2.7185 - val_accuracy: 0.4062 - 4s/epoch - 1s/step\n",
            "Epoch 31/35\n",
            "4/4 - 3s - loss: 0.5521 - accuracy: 0.9355 - val_loss: 2.7066 - val_accuracy: 0.4062 - 3s/epoch - 837ms/step\n",
            "Epoch 32/35\n",
            "4/4 - 3s - loss: 0.4933 - accuracy: 0.9677 - val_loss: 2.7423 - val_accuracy: 0.4062 - 3s/epoch - 737ms/step\n",
            "Epoch 33/35\n",
            "4/4 - 3s - loss: 0.4752 - accuracy: 0.9516 - val_loss: 2.7593 - val_accuracy: 0.4375 - 3s/epoch - 770ms/step\n",
            "Epoch 34/35\n",
            "4/4 - 4s - loss: 0.4325 - accuracy: 0.9597 - val_loss: 2.7384 - val_accuracy: 0.4062 - 4s/epoch - 929ms/step\n",
            "Epoch 35/35\n",
            "4/4 - 4s - loss: 0.3862 - accuracy: 0.9758 - val_loss: 2.8877 - val_accuracy: 0.4062 - 4s/epoch - 1s/step\n"
          ]
        }
      ]
    },
    {
      "cell_type": "code",
      "source": [
        "import matplotlib.pyplot as plt"
      ],
      "metadata": {
        "id": "-iHtyS4e8ifA"
      },
      "execution_count": null,
      "outputs": []
    },
    {
      "cell_type": "code",
      "source": [
        "plt.plot(np.arange(len(history.history['accuracy'])), history.history['accuracy'], color='blue')\n",
        "plt.plot(np.arange(len(history.history['val_accuracy'])), history.history['val_accuracy'], color='orange')\n",
        "plt.legend(['train', 'validation'])\n",
        "plt.title('Model accuracy')\n",
        "plt.show()"
      ],
      "metadata": {
        "colab": {
          "base_uri": "https://localhost:8080/",
          "height": 452
        },
        "id": "aScApm3YPPPW",
        "outputId": "05687238-8c60-47f1-e69c-e649349dad57"
      },
      "execution_count": null,
      "outputs": [
        {
          "output_type": "display_data",
          "data": {
            "text/plain": [
              "<Figure size 640x480 with 1 Axes>"
            ],
            "image/png": "[encoded data removed]"
          },
          "metadata": {}
        }
      ]
    },
    {
      "cell_type": "code",
      "source": [
        "plt.plot(np.arange(len(history.history['loss'])), history.history['loss'], color='blue')\n",
        "plt.plot(np.arange(len(history.history['val_loss'])), history.history['val_loss'], color='orange')\n",
        "plt.legend(['train', 'validation'])\n",
        "plt.title('Model loss')\n",
        "plt.show()"
      ],
      "metadata": {
        "colab": {
          "base_uri": "https://localhost:8080/",
          "height": 452
        },
        "id": "0aHLc_qCPhkU",
        "outputId": "6881a1bb-f9f3-4e3c-cd9f-0e3936832621"
      },
      "execution_count": null,
      "outputs": [
        {
          "output_type": "display_data",
          "data": {
            "text/plain": [
              "<Figure size 640x480 with 1 Axes>"
            ],
            "image/png": "[encoded data removed]"
          },
          "metadata": {}
        }
      ]
    },
    {
      "cell_type": "code",
      "source": [],
      "metadata": {
        "id": "Q5Ir7J4CRV4V"
      },
      "execution_count": null,
      "outputs": []
    }
  ]
}