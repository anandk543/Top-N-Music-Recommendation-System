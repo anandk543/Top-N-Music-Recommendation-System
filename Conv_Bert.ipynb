{
  "cells": [
    {
      "cell_type": "code",
      "execution_count": null,
      "metadata": {
        "id": "jjImeBmY-RLw",
        "colab": {
          "base_uri": "https://localhost:8080/"
        },
        "outputId": "b195bee1-8e86-4cfe-eaf1-4e4e40ecf05d"
      },
      "outputs": [
        {
          "output_type": "stream",
          "name": "stdout",
          "text": [
            "Drive already mounted at /content/drive; to attempt to forcibly remount, call drive.mount(\"/content/drive\", force_remount=True).\n"
          ]
        }
      ],
      "source": [
        "from google.colab import drive\n",
        "drive.mount('/content/drive')"
      ]
    },
    {
      "cell_type": "markdown",
      "source": [
        "## **BERT**"
      ],
      "metadata": {
        "id": "Ytmnda882t_n"
      }
    },
    {
      "cell_type": "code",
      "execution_count": 1,
      "metadata": {
        "id": "C8zNXGfJ_y83"
      },
      "outputs": [],
      "source": [
        "import numpy as np\n",
        "import pandas as pd\n",
        "import pickle"
      ]
    },
    {
      "cell_type": "code",
      "execution_count": 2,
      "metadata": {
        "colab": {
          "base_uri": "https://localhost:8080/",
          "height": 206
        },
        "id": "2PP9oMvYAMaI",
        "outputId": "e319b5fa-1039-4fd9-e500-0be5bddcc265"
      },
      "outputs": [
        {
          "output_type": "execute_result",
          "data": {
            "text/plain": [
              "  user_id session_id  song_id        time artist_id\n",
              "0   27063    1889046  2691760  1402997433    337496\n",
              "1   27063    1889046  2691717  1402997784    337496\n",
              "2   27063    1889046  2691636  1402998064    337496\n",
              "3   27063    1889046  2691702  1402998298    337496\n",
              "4   27063    1889046  2691783  1402998576    337496"
            ],
            "text/html": [
              "\n",
              "  <div id=\"df-bd7bc952-b71a-4f0f-90f7-aad276ecf397\">\n",
              "    <div class=\"colab-df-container\">\n",
              "      <div>\n",
              "<style scoped>\n",
              "    .dataframe tbody tr th:only-of-type {\n",
              "        vertical-align: middle;\n",
              "    }\n",
              "\n",
              "    .dataframe tbody tr th {\n",
              "        vertical-align: top;\n",
              "    }\n",
              "\n",
              "    .dataframe thead th {\n",
              "        text-align: right;\n",
              "    }\n",
              "</style>\n",
              "<table border=\"1\" class=\"dataframe\">\n",
              "  <thead>\n",
              "    <tr style=\"text-align: right;\">\n",
              "      <th></th>\n",
              "      <th>user_id</th>\n",
              "      <th>session_id</th>\n",
              "      <th>song_id</th>\n",
              "      <th>time</th>\n",
              "      <th>artist_id</th>\n",
              "    </tr>\n",
              "  </thead>\n",
              "  <tbody>\n",
              "    <tr>\n",
              "      <th>0</th>\n",
              "      <td>27063</td>\n",
              "      <td>1889046</td>\n",
              "      <td>2691760</td>\n",
              "      <td>1402997433</td>\n",
              "      <td>337496</td>\n",
              "    </tr>\n",
              "    <tr>\n",
              "      <th>1</th>\n",
              "      <td>27063</td>\n",
              "      <td>1889046</td>\n",
              "      <td>2691717</td>\n",
              "      <td>1402997784</td>\n",
              "      <td>337496</td>\n",
              "    </tr>\n",
              "    <tr>\n",
              "      <th>2</th>\n",
              "      <td>27063</td>\n",
              "      <td>1889046</td>\n",
              "      <td>2691636</td>\n",
              "      <td>1402998064</td>\n",
              "      <td>337496</td>\n",
              "    </tr>\n",
              "    <tr>\n",
              "      <th>3</th>\n",
              "      <td>27063</td>\n",
              "      <td>1889046</td>\n",
              "      <td>2691702</td>\n",
              "      <td>1402998298</td>\n",
              "      <td>337496</td>\n",
              "    </tr>\n",
              "    <tr>\n",
              "      <th>4</th>\n",
              "      <td>27063</td>\n",
              "      <td>1889046</td>\n",
              "      <td>2691783</td>\n",
              "      <td>1402998576</td>\n",
              "      <td>337496</td>\n",
              "    </tr>\n",
              "  </tbody>\n",
              "</table>\n",
              "</div>\n",
              "      <button class=\"colab-df-convert\" onclick=\"convertToInteractive('df-bd7bc952-b71a-4f0f-90f7-aad276ecf397')\"\n",
              "              title=\"Convert this dataframe to an interactive table.\"\n",
              "              style=\"display:none;\">\n",
              "        \n",
              "  <svg xmlns=\"http://www.w3.org/2000/svg\" height=\"24px\"viewBox=\"0 0 24 24\"\n",
              "       width=\"24px\">\n",
              "    <path d=\"M0 0h24v24H0V0z\" fill=\"none\"/>\n",
              "    <path d=\"M18.56 5.44l.94 2.06.94-2.06 2.06-.94-2.06-.94-.94-2.06-.94 2.06-2.06.94zm-11 1L8.5 8.5l.94-2.06 2.06-.94-2.06-.94L8.5 2.5l-.94 2.06-2.06.94zm10 10l.94 2.06.94-2.06 2.06-.94-2.06-.94-.94-2.06-.94 2.06-2.06.94z\"/><path d=\"M17.41 7.96l-1.37-1.37c-.4-.4-.92-.59-1.43-.59-.52 0-1.04.2-1.43.59L10.3 9.45l-7.72 7.72c-.78.78-.78 2.05 0 2.83L4 21.41c.39.39.9.59 1.41.59.51 0 1.02-.2 1.41-.59l7.78-7.78 2.81-2.81c.8-.78.8-2.07 0-2.86zM5.41 20L4 18.59l7.72-7.72 1.47 1.35L5.41 20z\"/>\n",
              "  </svg>\n",
              "      </button>\n",
              "      \n",
              "  <style>\n",
              "    .colab-df-container {\n",
              "      display:flex;\n",
              "      flex-wrap:wrap;\n",
              "      gap: 12px;\n",
              "    }\n",
              "\n",
              "    .colab-df-convert {\n",
              "      background-color: #E8F0FE;\n",
              "      border: none;\n",
              "      border-radius: 50%;\n",
              "      cursor: pointer;\n",
              "      display: none;\n",
              "      fill: #1967D2;\n",
              "      height: 32px;\n",
              "      padding: 0 0 0 0;\n",
              "      width: 32px;\n",
              "    }\n",
              "\n",
              "    .colab-df-convert:hover {\n",
              "      background-color: #E2EBFA;\n",
              "      box-shadow: 0px 1px 2px rgba(60, 64, 67, 0.3), 0px 1px 3px 1px rgba(60, 64, 67, 0.15);\n",
              "      fill: #174EA6;\n",
              "    }\n",
              "\n",
              "    [theme=dark] .colab-df-convert {\n",
              "      background-color: #3B4455;\n",
              "      fill: #D2E3FC;\n",
              "    }\n",
              "\n",
              "    [theme=dark] .colab-df-convert:hover {\n",
              "      background-color: #434B5C;\n",
              "      box-shadow: 0px 1px 3px 1px rgba(0, 0, 0, 0.15);\n",
              "      filter: drop-shadow(0px 1px 2px rgba(0, 0, 0, 0.3));\n",
              "      fill: #FFFFFF;\n",
              "    }\n",
              "  </style>\n",
              "\n",
              "      <script>\n",
              "        const buttonEl =\n",
              "          document.querySelector('#df-bd7bc952-b71a-4f0f-90f7-aad276ecf397 button.colab-df-convert');\n",
              "        buttonEl.style.display =\n",
              "          google.colab.kernel.accessAllowed ? 'block' : 'none';\n",
              "\n",
              "        async function convertToInteractive(key) {\n",
              "          const element = document.querySelector('#df-bd7bc952-b71a-4f0f-90f7-aad276ecf397');\n",
              "          const dataTable =\n",
              "            await google.colab.kernel.invokeFunction('convertToInteractive',\n",
              "                                                     [key], {});\n",
              "          if (!dataTable) return;\n",
              "\n",
              "          const docLinkHtml = 'Like what you see? Visit the ' +\n",
              "            '<a target=\"_blank\" href=https://colab.research.google.com/notebooks/data_table.ipynb>data table notebook</a>'\n",
              "            + ' to learn more about interactive tables.';\n",
              "          element.innerHTML = '';\n",
              "          dataTable['output_type'] = 'display_data';\n",
              "          await google.colab.output.renderOutput(dataTable, element);\n",
              "          const docLink = document.createElement('div');\n",
              "          docLink.innerHTML = docLinkHtml;\n",
              "          element.appendChild(docLink);\n",
              "        }\n",
              "      </script>\n",
              "    </div>\n",
              "  </div>\n",
              "  "
            ]
          },
          "metadata": {},
          "execution_count": 2
        }
      ],
      "source": [
        "data = pickle.load(open('/content/drive/MyDrive/Minor Project/30music.pkl', 'rb')).rename(columns = {'UserId': 'user_id', 'SessionId': 'session_id', 'ItemId': 'song_id', 'Time': 'time', 'ArtistId': 'artist_id'})\n",
        "data.head(5)"
      ]
    },
    {
      "cell_type": "code",
      "execution_count": 3,
      "metadata": {
        "colab": {
          "base_uri": "https://localhost:8080/"
        },
        "id": "qmm0KBLrjYyB",
        "outputId": "07afa64e-16bf-46f8-f7f6-6bb976aae79a"
      },
      "outputs": [
        {
          "output_type": "execute_result",
          "data": {
            "text/plain": [
              "(21, 63, 817)"
            ]
          },
          "metadata": {},
          "execution_count": 3
        }
      ],
      "source": [
        "len(data['user_id'].unique()), len(data['session_id'].unique()), len(data['song_id'].unique())"
      ]
    },
    {
      "cell_type": "code",
      "execution_count": 4,
      "metadata": {
        "colab": {
          "base_uri": "https://localhost:8080/"
        },
        "id": "wQWKPOSqANWR",
        "outputId": "670cb017-2b29-421f-dd54-2c2898bdeee7"
      },
      "outputs": [
        {
          "output_type": "execute_result",
          "data": {
            "text/plain": [
              "817"
            ]
          },
          "metadata": {},
          "execution_count": 4
        }
      ],
      "source": [
        "un = data['song_id'].unique()\n",
        "len(un)"
      ]
    },
    {
      "cell_type": "code",
      "execution_count": 5,
      "metadata": {
        "colab": {
          "base_uri": "https://localhost:8080/"
        },
        "id": "1PRk1KDJAQNa",
        "outputId": "f5570878-0914-4884-d2e7-0404ed7ed74d"
      },
      "outputs": [
        {
          "output_type": "execute_result",
          "data": {
            "text/plain": [
              "((1000, 5),\n",
              " session_id\n",
              " 1204341    10\n",
              " 1204342    10\n",
              " 1204346    10\n",
              " 1204347     5\n",
              " 1218982    11\n",
              "            ..\n",
              " 549752     10\n",
              " 549754     12\n",
              " 549755      6\n",
              " 549756      4\n",
              " 956148      5\n",
              " Length: 63, dtype: int64)"
            ]
          },
          "metadata": {},
          "execution_count": 5
        }
      ],
      "source": [
        "session_lengths = data.groupby('session_id').size()\n",
        "data.shape, session_lengths"
      ]
    },
    {
      "cell_type": "code",
      "execution_count": 6,
      "metadata": {
        "id": "THiNHkuNAS_c"
      },
      "outputs": [],
      "source": [
        "data = data[np.in1d(data.session_id, session_lengths[session_lengths>1].index)]\n",
        "item_supports = data.groupby('song_id').size()\n",
        "data = data[np.in1d(data.song_id, item_supports[item_supports>=5].index)]\n",
        "session_lengths = data.groupby('session_id').size()\n",
        "data1 = data[np.in1d(data.session_id, session_lengths[session_lengths>=2].index)]"
      ]
    },
    {
      "cell_type": "code",
      "execution_count": 7,
      "metadata": {
        "colab": {
          "base_uri": "https://localhost:8080/",
          "height": 206
        },
        "id": "p9znlRYSAYMv",
        "outputId": "580db7e1-0e85-4654-d1b3-2cc3fb921dd5"
      },
      "outputs": [
        {
          "output_type": "execute_result",
          "data": {
            "text/plain": [
              "  session_id                                           sequence        time  \\\n",
              "0    1914594  [2026734, 2026731, 2026734, 2026731, 2026734, ...  1411136679   \n",
              "1       3621  [903913, 903913, 903913, 903913, 903913, 90391...  1421310258   \n",
              "2       3624               [3550262, 3550262, 3550262, 3550262]  1421345989   \n",
              "3       3626               [3550262, 1801147, 1801147, 1801147]  1421419115   \n",
              "4       3629      [1801147, 1801147, 1801147, 1801147, 1801147]  1421435583   \n",
              "\n",
              "  user_id  \n",
              "0   34053  \n",
              "1   40265  \n",
              "2   40265  \n",
              "3   40265  \n",
              "4   40265  "
            ],
            "text/html": [
              "\n",
              "  <div id=\"df-2e0a6536-3775-4885-8909-36a299d60630\">\n",
              "    <div class=\"colab-df-container\">\n",
              "      <div>\n",
              "<style scoped>\n",
              "    .dataframe tbody tr th:only-of-type {\n",
              "        vertical-align: middle;\n",
              "    }\n",
              "\n",
              "    .dataframe tbody tr th {\n",
              "        vertical-align: top;\n",
              "    }\n",
              "\n",
              "    .dataframe thead th {\n",
              "        text-align: right;\n",
              "    }\n",
              "</style>\n",
              "<table border=\"1\" class=\"dataframe\">\n",
              "  <thead>\n",
              "    <tr style=\"text-align: right;\">\n",
              "      <th></th>\n",
              "      <th>session_id</th>\n",
              "      <th>sequence</th>\n",
              "      <th>time</th>\n",
              "      <th>user_id</th>\n",
              "    </tr>\n",
              "  </thead>\n",
              "  <tbody>\n",
              "    <tr>\n",
              "      <th>0</th>\n",
              "      <td>1914594</td>\n",
              "      <td>[2026734, 2026731, 2026734, 2026731, 2026734, ...</td>\n",
              "      <td>1411136679</td>\n",
              "      <td>34053</td>\n",
              "    </tr>\n",
              "    <tr>\n",
              "      <th>1</th>\n",
              "      <td>3621</td>\n",
              "      <td>[903913, 903913, 903913, 903913, 903913, 90391...</td>\n",
              "      <td>1421310258</td>\n",
              "      <td>40265</td>\n",
              "    </tr>\n",
              "    <tr>\n",
              "      <th>2</th>\n",
              "      <td>3624</td>\n",
              "      <td>[3550262, 3550262, 3550262, 3550262]</td>\n",
              "      <td>1421345989</td>\n",
              "      <td>40265</td>\n",
              "    </tr>\n",
              "    <tr>\n",
              "      <th>3</th>\n",
              "      <td>3626</td>\n",
              "      <td>[3550262, 1801147, 1801147, 1801147]</td>\n",
              "      <td>1421419115</td>\n",
              "      <td>40265</td>\n",
              "    </tr>\n",
              "    <tr>\n",
              "      <th>4</th>\n",
              "      <td>3629</td>\n",
              "      <td>[1801147, 1801147, 1801147, 1801147, 1801147]</td>\n",
              "      <td>1421435583</td>\n",
              "      <td>40265</td>\n",
              "    </tr>\n",
              "  </tbody>\n",
              "</table>\n",
              "</div>\n",
              "      <button class=\"colab-df-convert\" onclick=\"convertToInteractive('df-2e0a6536-3775-4885-8909-36a299d60630')\"\n",
              "              title=\"Convert this dataframe to an interactive table.\"\n",
              "              style=\"display:none;\">\n",
              "        \n",
              "  <svg xmlns=\"http://www.w3.org/2000/svg\" height=\"24px\"viewBox=\"0 0 24 24\"\n",
              "       width=\"24px\">\n",
              "    <path d=\"M0 0h24v24H0V0z\" fill=\"none\"/>\n",
              "    <path d=\"M18.56 5.44l.94 2.06.94-2.06 2.06-.94-2.06-.94-.94-2.06-.94 2.06-2.06.94zm-11 1L8.5 8.5l.94-2.06 2.06-.94-2.06-.94L8.5 2.5l-.94 2.06-2.06.94zm10 10l.94 2.06.94-2.06 2.06-.94-2.06-.94-.94-2.06-.94 2.06-2.06.94z\"/><path d=\"M17.41 7.96l-1.37-1.37c-.4-.4-.92-.59-1.43-.59-.52 0-1.04.2-1.43.59L10.3 9.45l-7.72 7.72c-.78.78-.78 2.05 0 2.83L4 21.41c.39.39.9.59 1.41.59.51 0 1.02-.2 1.41-.59l7.78-7.78 2.81-2.81c.8-.78.8-2.07 0-2.86zM5.41 20L4 18.59l7.72-7.72 1.47 1.35L5.41 20z\"/>\n",
              "  </svg>\n",
              "      </button>\n",
              "      \n",
              "  <style>\n",
              "    .colab-df-container {\n",
              "      display:flex;\n",
              "      flex-wrap:wrap;\n",
              "      gap: 12px;\n",
              "    }\n",
              "\n",
              "    .colab-df-convert {\n",
              "      background-color: #E8F0FE;\n",
              "      border: none;\n",
              "      border-radius: 50%;\n",
              "      cursor: pointer;\n",
              "      display: none;\n",
              "      fill: #1967D2;\n",
              "      height: 32px;\n",
              "      padding: 0 0 0 0;\n",
              "      width: 32px;\n",
              "    }\n",
              "\n",
              "    .colab-df-convert:hover {\n",
              "      background-color: #E2EBFA;\n",
              "      box-shadow: 0px 1px 2px rgba(60, 64, 67, 0.3), 0px 1px 3px 1px rgba(60, 64, 67, 0.15);\n",
              "      fill: #174EA6;\n",
              "    }\n",
              "\n",
              "    [theme=dark] .colab-df-convert {\n",
              "      background-color: #3B4455;\n",
              "      fill: #D2E3FC;\n",
              "    }\n",
              "\n",
              "    [theme=dark] .colab-df-convert:hover {\n",
              "      background-color: #434B5C;\n",
              "      box-shadow: 0px 1px 3px 1px rgba(0, 0, 0, 0.15);\n",
              "      filter: drop-shadow(0px 1px 2px rgba(0, 0, 0, 0.3));\n",
              "      fill: #FFFFFF;\n",
              "    }\n",
              "  </style>\n",
              "\n",
              "      <script>\n",
              "        const buttonEl =\n",
              "          document.querySelector('#df-2e0a6536-3775-4885-8909-36a299d60630 button.colab-df-convert');\n",
              "        buttonEl.style.display =\n",
              "          google.colab.kernel.accessAllowed ? 'block' : 'none';\n",
              "\n",
              "        async function convertToInteractive(key) {\n",
              "          const element = document.querySelector('#df-2e0a6536-3775-4885-8909-36a299d60630');\n",
              "          const dataTable =\n",
              "            await google.colab.kernel.invokeFunction('convertToInteractive',\n",
              "                                                     [key], {});\n",
              "          if (!dataTable) return;\n",
              "\n",
              "          const docLinkHtml = 'Like what you see? Visit the ' +\n",
              "            '<a target=\"_blank\" href=https://colab.research.google.com/notebooks/data_table.ipynb>data table notebook</a>'\n",
              "            + ' to learn more about interactive tables.';\n",
              "          element.innerHTML = '';\n",
              "          dataTable['output_type'] = 'display_data';\n",
              "          await google.colab.output.renderOutput(dataTable, element);\n",
              "          const docLink = document.createElement('div');\n",
              "          docLink.innerHTML = docLinkHtml;\n",
              "          element.appendChild(docLink);\n",
              "        }\n",
              "      </script>\n",
              "    </div>\n",
              "  </div>\n",
              "  "
            ]
          },
          "metadata": {},
          "execution_count": 7
        }
      ],
      "source": [
        "groups = data1.groupby('session_id')\n",
        "aggregated = groups['song_id'].agg(sequence = lambda x: list(map(str, x)))\n",
        "init_ts = groups['time'].min()\n",
        "users = groups['user_id'].min()\n",
        "data = aggregated.join(init_ts).join(users)\n",
        "data.reset_index(inplace=True)\n",
        "data.head()"
      ]
    },
    {
      "cell_type": "code",
      "execution_count": 8,
      "metadata": {
        "colab": {
          "base_uri": "https://localhost:8080/"
        },
        "id": "Q2OJO8wVAbTm",
        "outputId": "323c20a6-f05e-417a-dc02-03a98ba87f36"
      },
      "outputs": [
        {
          "output_type": "execute_result",
          "data": {
            "text/plain": [
              "0    None\n",
              "1    None\n",
              "2    None\n",
              "3    None\n",
              "4    None\n",
              "Name: sequence, dtype: object"
            ]
          },
          "metadata": {},
          "execution_count": 8
        }
      ],
      "source": [
        "from collections import Counter\n",
        "cnt = Counter()\n",
        "data.sequence.map(cnt.update)"
      ]
    },
    {
      "cell_type": "code",
      "execution_count": 9,
      "metadata": {
        "id": "ZuGyJHuPAeGE"
      },
      "outputs": [],
      "source": [
        "sequence_length = data.sequence.map(len).values\n",
        "n_sessions_per_user = data.groupby('user_id').size()"
      ]
    },
    {
      "cell_type": "code",
      "execution_count": 10,
      "metadata": {
        "colab": {
          "base_uri": "https://localhost:8080/"
        },
        "id": "aQ5XROhBAgsf",
        "outputId": "62cd62f2-36d3-4f14-ca98-1bf0f49f017e"
      },
      "outputs": [
        {
          "output_type": "stream",
          "name": "stdout",
          "text": [
            "Number of items: 5\n",
            "Number of users: 2\n",
            "Number of sessions: 5\n",
            "\n",
            "Session length:\n",
            "\tAverage: 7.60\n",
            "\tMedian: 5.0\n",
            "\tMin: 4\n",
            "\tMax: 14\n",
            "Sessions per user:\n",
            "\tAverage: 2.50\n",
            "\tMedian: 2.5\n",
            "\tMin: 1\n",
            "\tMax: 4\n"
          ]
        }
      ],
      "source": [
        "print('Number of items: {}'.format(len(cnt)))\n",
        "print('Number of users: {}'.format(data.user_id.nunique()))\n",
        "print('Number of sessions: {}'.format(len(data)))\n",
        "print('\\nSession length:\\n\\tAverage: {:.2f}\\n\\tMedian: {}\\n\\tMin: {}\\n\\tMax: {}'.format(\n",
        "    sequence_length.mean(), \n",
        "    np.quantile(sequence_length, 0.5), \n",
        "    sequence_length.min(), \n",
        "    sequence_length.max()))\n",
        "print('Sessions per user:\\n\\tAverage: {:.2f}\\n\\tMedian: {}\\n\\tMin: {}\\n\\tMax: {}'.format(\n",
        "    n_sessions_per_user.mean(), \n",
        "    np.quantile(n_sessions_per_user, 0.5), \n",
        "    n_sessions_per_user.min(), \n",
        "    n_sessions_per_user.max()))"
      ]
    },
    {
      "cell_type": "code",
      "execution_count": 11,
      "metadata": {
        "colab": {
          "base_uri": "https://localhost:8080/",
          "height": 206
        },
        "id": "Xj1PLRonBE8V",
        "outputId": "cd9af034-7183-46fb-96d7-f1ef283d4c0f"
      },
      "outputs": [
        {
          "output_type": "execute_result",
          "data": {
            "text/plain": [
              "  session_id                                           sequence        time  \\\n",
              "0    1914594  [2026734, 2026731, 2026734, 2026731, 2026734, ...  1411136679   \n",
              "1       3621  [903913, 903913, 903913, 903913, 903913, 90391...  1421310258   \n",
              "2       3624  [10000, 10000, 3550262, 3550262, 3550262, 3550...  1421345989   \n",
              "3       3626  [10000, 10000, 3550262, 1801147, 1801147, 1801...  1421419115   \n",
              "4       3629  [10000, 1801147, 1801147, 1801147, 1801147, 18...  1421435583   \n",
              "\n",
              "  user_id  \n",
              "0   34053  \n",
              "1   40265  \n",
              "2   40265  \n",
              "3   40265  \n",
              "4   40265  "
            ],
            "text/html": [
              "\n",
              "  <div id=\"df-12b6290b-ddd0-47aa-b032-3319893c2d1a\">\n",
              "    <div class=\"colab-df-container\">\n",
              "      <div>\n",
              "<style scoped>\n",
              "    .dataframe tbody tr th:only-of-type {\n",
              "        vertical-align: middle;\n",
              "    }\n",
              "\n",
              "    .dataframe tbody tr th {\n",
              "        vertical-align: top;\n",
              "    }\n",
              "\n",
              "    .dataframe thead th {\n",
              "        text-align: right;\n",
              "    }\n",
              "</style>\n",
              "<table border=\"1\" class=\"dataframe\">\n",
              "  <thead>\n",
              "    <tr style=\"text-align: right;\">\n",
              "      <th></th>\n",
              "      <th>session_id</th>\n",
              "      <th>sequence</th>\n",
              "      <th>time</th>\n",
              "      <th>user_id</th>\n",
              "    </tr>\n",
              "  </thead>\n",
              "  <tbody>\n",
              "    <tr>\n",
              "      <th>0</th>\n",
              "      <td>1914594</td>\n",
              "      <td>[2026734, 2026731, 2026734, 2026731, 2026734, ...</td>\n",
              "      <td>1411136679</td>\n",
              "      <td>34053</td>\n",
              "    </tr>\n",
              "    <tr>\n",
              "      <th>1</th>\n",
              "      <td>3621</td>\n",
              "      <td>[903913, 903913, 903913, 903913, 903913, 90391...</td>\n",
              "      <td>1421310258</td>\n",
              "      <td>40265</td>\n",
              "    </tr>\n",
              "    <tr>\n",
              "      <th>2</th>\n",
              "      <td>3624</td>\n",
              "      <td>[10000, 10000, 3550262, 3550262, 3550262, 3550...</td>\n",
              "      <td>1421345989</td>\n",
              "      <td>40265</td>\n",
              "    </tr>\n",
              "    <tr>\n",
              "      <th>3</th>\n",
              "      <td>3626</td>\n",
              "      <td>[10000, 10000, 3550262, 1801147, 1801147, 1801...</td>\n",
              "      <td>1421419115</td>\n",
              "      <td>40265</td>\n",
              "    </tr>\n",
              "    <tr>\n",
              "      <th>4</th>\n",
              "      <td>3629</td>\n",
              "      <td>[10000, 1801147, 1801147, 1801147, 1801147, 18...</td>\n",
              "      <td>1421435583</td>\n",
              "      <td>40265</td>\n",
              "    </tr>\n",
              "  </tbody>\n",
              "</table>\n",
              "</div>\n",
              "      <button class=\"colab-df-convert\" onclick=\"convertToInteractive('df-12b6290b-ddd0-47aa-b032-3319893c2d1a')\"\n",
              "              title=\"Convert this dataframe to an interactive table.\"\n",
              "              style=\"display:none;\">\n",
              "        \n",
              "  <svg xmlns=\"http://www.w3.org/2000/svg\" height=\"24px\"viewBox=\"0 0 24 24\"\n",
              "       width=\"24px\">\n",
              "    <path d=\"M0 0h24v24H0V0z\" fill=\"none\"/>\n",
              "    <path d=\"M18.56 5.44l.94 2.06.94-2.06 2.06-.94-2.06-.94-.94-2.06-.94 2.06-2.06.94zm-11 1L8.5 8.5l.94-2.06 2.06-.94-2.06-.94L8.5 2.5l-.94 2.06-2.06.94zm10 10l.94 2.06.94-2.06 2.06-.94-2.06-.94-.94-2.06-.94 2.06-2.06.94z\"/><path d=\"M17.41 7.96l-1.37-1.37c-.4-.4-.92-.59-1.43-.59-.52 0-1.04.2-1.43.59L10.3 9.45l-7.72 7.72c-.78.78-.78 2.05 0 2.83L4 21.41c.39.39.9.59 1.41.59.51 0 1.02-.2 1.41-.59l7.78-7.78 2.81-2.81c.8-.78.8-2.07 0-2.86zM5.41 20L4 18.59l7.72-7.72 1.47 1.35L5.41 20z\"/>\n",
              "  </svg>\n",
              "      </button>\n",
              "      \n",
              "  <style>\n",
              "    .colab-df-container {\n",
              "      display:flex;\n",
              "      flex-wrap:wrap;\n",
              "      gap: 12px;\n",
              "    }\n",
              "\n",
              "    .colab-df-convert {\n",
              "      background-color: #E8F0FE;\n",
              "      border: none;\n",
              "      border-radius: 50%;\n",
              "      cursor: pointer;\n",
              "      display: none;\n",
              "      fill: #1967D2;\n",
              "      height: 32px;\n",
              "      padding: 0 0 0 0;\n",
              "      width: 32px;\n",
              "    }\n",
              "\n",
              "    .colab-df-convert:hover {\n",
              "      background-color: #E2EBFA;\n",
              "      box-shadow: 0px 1px 2px rgba(60, 64, 67, 0.3), 0px 1px 3px 1px rgba(60, 64, 67, 0.15);\n",
              "      fill: #174EA6;\n",
              "    }\n",
              "\n",
              "    [theme=dark] .colab-df-convert {\n",
              "      background-color: #3B4455;\n",
              "      fill: #D2E3FC;\n",
              "    }\n",
              "\n",
              "    [theme=dark] .colab-df-convert:hover {\n",
              "      background-color: #434B5C;\n",
              "      box-shadow: 0px 1px 3px 1px rgba(0, 0, 0, 0.15);\n",
              "      filter: drop-shadow(0px 1px 2px rgba(0, 0, 0, 0.3));\n",
              "      fill: #FFFFFF;\n",
              "    }\n",
              "  </style>\n",
              "\n",
              "      <script>\n",
              "        const buttonEl =\n",
              "          document.querySelector('#df-12b6290b-ddd0-47aa-b032-3319893c2d1a button.colab-df-convert');\n",
              "        buttonEl.style.display =\n",
              "          google.colab.kernel.accessAllowed ? 'block' : 'none';\n",
              "\n",
              "        async function convertToInteractive(key) {\n",
              "          const element = document.querySelector('#df-12b6290b-ddd0-47aa-b032-3319893c2d1a');\n",
              "          const dataTable =\n",
              "            await google.colab.kernel.invokeFunction('convertToInteractive',\n",
              "                                                     [key], {});\n",
              "          if (!dataTable) return;\n",
              "\n",
              "          const docLinkHtml = 'Like what you see? Visit the ' +\n",
              "            '<a target=\"_blank\" href=https://colab.research.google.com/notebooks/data_table.ipynb>data table notebook</a>'\n",
              "            + ' to learn more about interactive tables.';\n",
              "          element.innerHTML = '';\n",
              "          dataTable['output_type'] = 'display_data';\n",
              "          await google.colab.output.renderOutput(dataTable, element);\n",
              "          const docLink = document.createElement('div');\n",
              "          docLink.innerHTML = docLinkHtml;\n",
              "          element.appendChild(docLink);\n",
              "        }\n",
              "      </script>\n",
              "    </div>\n",
              "  </div>\n",
              "  "
            ]
          },
          "metadata": {},
          "execution_count": 11
        }
      ],
      "source": [
        "dictList = data['sequence']\n",
        "for i in range(0,len(dictList)):\n",
        "        if len(dictList[i])<6:\n",
        "            w=6-len(dictList[i])\n",
        "            dictList[i]=['10000']*w+dictList[i]\n",
        "\n",
        "data['sequence'] = dictList\n",
        "\n",
        "data.head()"
      ]
    },
    {
      "cell_type": "code",
      "execution_count": null,
      "metadata": {
        "id": "EujVejsrEpub"
      },
      "outputs": [],
      "source": [
        "!pip install tensorflow_text"
      ]
    },
    {
      "cell_type": "code",
      "execution_count": 13,
      "metadata": {
        "id": "-AJXI78GBIm7"
      },
      "outputs": [],
      "source": [
        "from nltk.tokenize import sent_tokenize, word_tokenize\n",
        "import tensorflow_hub as hub\n",
        "import tensorflow_text as text"
      ]
    },
    {
      "cell_type": "code",
      "execution_count": 14,
      "metadata": {
        "id": "YaP3n0jOCm5s"
      },
      "outputs": [],
      "source": [
        "bert_preprocess_url = 'https://tfhub.dev/tensorflow/bert_en_uncased_preprocess/3'\n",
        "bert_encoder_url = 'https://tfhub.dev/tensorflow/bert_en_uncased_L-12_H-768_A-12/4'\n",
        "\n",
        "bert_preprocess = hub.KerasLayer(bert_preprocess_url)\n",
        "bert_model = hub.KerasLayer(bert_encoder_url)"
      ]
    },
    {
      "cell_type": "code",
      "execution_count": 15,
      "metadata": {
        "id": "02ShhoSVCq-8"
      },
      "outputs": [],
      "source": [
        "from sklearn.metrics.pairwise import cosine_similarity\n",
        "\n",
        "def get_similarity(sentences):\n",
        "    preprocessed_text = bert_preprocess(sentences)\n",
        "    result = bert_model(preprocessed_text)\n",
        "    return cosine_similarity([result['pooled_output'][0]], [result['pooled_output'][1]])"
      ]
    },
    {
      "cell_type": "code",
      "execution_count": 16,
      "metadata": {
        "id": "94ZuZaDIDW_b"
      },
      "outputs": [],
      "source": [
        "def get_embedding(sentence, embedding_length):\n",
        "    preprocessed_text = bert_preprocess(sentence)\n",
        "    result = bert_model(preprocessed_text)\n",
        "    return result['pooled_output'][0][0:embedding_length]"
      ]
    },
    {
      "cell_type": "code",
      "execution_count": 19,
      "metadata": {
        "id": "YAq7gZBikDr6"
      },
      "outputs": [],
      "source": [
        "emb_length = 50\n",
        "\n",
        "a = data['sequence']\n",
        "bert = []\n",
        "for i in range(len(a)):\n",
        "    seq = a[i]\n",
        "    seq_vector = []\n",
        "    for j in range(len(seq)):\n",
        "        item = seq[j]\n",
        "        seq_vector.append(get_embedding([str(item)], emb_length))\n",
        "    bert.append(seq_vector)\n",
        "\n",
        "data['bert'] = bert"
      ]
    },
    {
      "cell_type": "code",
      "source": [
        "X = []\n",
        "\n",
        "for i in range(len(bert)):\n",
        "    seq = bert[i]\n",
        "    if len(seq)>= 5:\n",
        "        for j in range(0,(len(seq)-5)):  \n",
        "            X.append(seq[j:j+5])\n",
        "            #y.append(seq[j+5])\n",
        "\n",
        "X = np.array(X)\n",
        "\n",
        "X.shape"
      ],
      "metadata": {
        "id": "JaEo-lDNydQw"
      },
      "execution_count": null,
      "outputs": []
    },
    {
      "cell_type": "code",
      "source": [
        "v = data['sequence'].tolist()\n",
        "y = []\n",
        "for i in range(len(v)):\n",
        "    seq = v[i]\n",
        "    if len(seq)>= 5:\n",
        "        for j in range(0,(len(seq)-5)):  \n",
        "            #X.append(seq[j:j+5])\n",
        "            y.append(seq[j+5])"
      ],
      "metadata": {
        "id": "xXEj6EMYygD0"
      },
      "execution_count": null,
      "outputs": []
    },
    {
      "cell_type": "code",
      "source": [
        "y = list(map(int, y))\n",
        "label_encoding_data = list(m)\n",
        "from sklearn.preprocessing import LabelEncoder\n",
        "product_label=LabelEncoder()\n",
        "product_label.fit(label_encoding_data)\n",
        "y = product_label.transform(y)\n",
        "\n",
        "type(y), max(y)"
      ],
      "metadata": {
        "id": "yg_oahMUyiCx"
      },
      "execution_count": null,
      "outputs": []
    },
    {
      "cell_type": "code",
      "source": [
        "from sklearn.preprocessing import MinMaxScaler\n",
        "scaler = MinMaxScaler()\n",
        "X = scaler.fit_transform(X.reshape(X.shape[0], -1)).reshape(X.shape)"
      ],
      "metadata": {
        "id": "kb1tYTJdykcw"
      },
      "execution_count": null,
      "outputs": []
    },
    {
      "cell_type": "code",
      "source": [
        "from sklearn.model_selection import train_test_split\n",
        "X_train, X_test, y_train, y_test = train_test_split(X, y, test_size=0.2, random_state=1)"
      ],
      "metadata": {
        "id": "tO_rKu0Rymn5"
      },
      "execution_count": null,
      "outputs": []
    },
    {
      "cell_type": "code",
      "source": [
        "from numpy import array\n",
        "from keras.models import Sequential\n",
        "from keras.layers import Dense\n",
        "from keras.layers import Flatten,Reshape\n",
        "from keras.layers.convolutional import Conv1D, Conv2D\n",
        "from keras.layers.convolutional import MaxPooling1D, MaxPooling2D\n",
        "import tensorflow as tf\n",
        "from keras.models import Model"
      ],
      "metadata": {
        "id": "Sl_qPruVyo0t"
      },
      "execution_count": null,
      "outputs": []
    },
    {
      "cell_type": "code",
      "source": [
        "tf.config.run_functions_eagerly(True)"
      ],
      "metadata": {
        "id": "YI9cpo2azFYW"
      },
      "execution_count": null,
      "outputs": []
    },
    {
      "cell_type": "code",
      "source": [
        "n_steps=5\n",
        "n_features=50\n",
        "batch_size=32\n",
        "total_vocab=len(m)"
      ],
      "metadata": {
        "id": "nsvl_pSwyqzt"
      },
      "execution_count": null,
      "outputs": []
    },
    {
      "cell_type": "code",
      "source": [
        "# define model\n",
        "# vertical_model = Sequential()\n",
        "first_input = Input(shape=(n_steps, n_features, 1))\n",
        "vertical_model = Conv2D(filters=512, kernel_size=(5,1), activation='relu', padding='valid')(first_input)\n",
        "vertical_model = Reshape(target_shape = (vertical_model.shape[2], vertical_model.shape[3]))(vertical_model)\n",
        "vertical_model = MaxPooling1D(pool_size = vertical_model.shape[1])(vertical_model)\n",
        "vertical_model = Flatten()(vertical_model)\n",
        "\n",
        "# horizontal_model = Sequential()\n",
        "second_input = Input(shape=(n_steps, n_features, 1))\n",
        "horizontal_model = Conv2D(filters=512, kernel_size=(3,50), activation='relu', padding='valid')(second_input)\n",
        "# print(horizontal_model.shape)\n",
        "horizontal_model = Reshape(target_shape = (horizontal_model.shape[1]*horizontal_model.shape[2], horizontal_model.shape[3]))(horizontal_model)\n",
        "horizontal_model = MaxPooling1D(pool_size = horizontal_model.shape[1])(horizontal_model)\n",
        "horizontal_model = Flatten()(horizontal_model)\n",
        "\n",
        "# merge_model = Sequential()\n",
        "merged = tf.keras.layers.Concatenate()([vertical_model, horizontal_model])\n",
        "# merge_model.add(merged)\n",
        "\n",
        "merge_model = Dense(256, activation='relu')(merged)\n",
        "merge_model = Dense(64, activation='relu')(merged)\n",
        "merge_model = Dense(total_vocab, activation='softmax')(merge_model)\n",
        "model = Model(inputs = [first_input, second_input], outputs = merge_model)\n",
        "\n",
        "model.compile(optimizer='adam', loss='sparse_categorical_crossentropy',metrics=['accuracy'])\n",
        "model.summary()"
      ],
      "metadata": {
        "id": "GzryXaQfys0_"
      },
      "execution_count": null,
      "outputs": []
    },
    {
      "cell_type": "code",
      "source": [
        "# fit model\n",
        "history = model.fit([X_train, X_train], \n",
        "          y_train, \n",
        "          epochs=50,\n",
        "          validation_split=0.1,\n",
        "          verbose=2)"
      ],
      "metadata": {
        "id": "xyO_AIZ8yu0b"
      },
      "execution_count": null,
      "outputs": []
    },
    {
      "cell_type": "code",
      "source": [
        "import matplotlib.pyplot as plt"
      ],
      "metadata": {
        "id": "G3U3nflmyy2q"
      },
      "execution_count": null,
      "outputs": []
    },
    {
      "cell_type": "code",
      "source": [
        "plt.plot(np.arange(len(history.history['accuracy'])), history.history['accuracy'], color='blue')\n",
        "plt.plot(np.arange(len(history.history['val_accuracy'])), history.history['val_accuracy'], color='orange')\n",
        "plt.legend(['train', 'validation'])\n",
        "plt.title('Model accuracy')\n",
        "plt.show()"
      ],
      "metadata": {
        "id": "jF5FUIAEyzuG"
      },
      "execution_count": null,
      "outputs": []
    },
    {
      "cell_type": "code",
      "source": [
        "plt.plot(np.arange(len(history.history['loss'])), history.history['loss'], color='blue')\n",
        "plt.plot(np.arange(len(history.history['val_loss'])), history.history['val_loss'], color='orange')\n",
        "plt.legend(['train', 'validation'])\n",
        "plt.title('Model loss')\n",
        "plt.show()"
      ],
      "metadata": {
        "id": "doR6TNn_y3YD"
      },
      "execution_count": null,
      "outputs": []
    }
  ],
  "metadata": {
    "accelerator": "GPU",
    "colab": {
      "provenance": []
    },
    "gpuClass": "standard",
    "kernelspec": {
      "display_name": "Python 3",
      "name": "python3"
    },
    "language_info": {
      "name": "python"
    }
  },
  "nbformat": 4,
  "nbformat_minor": 0
}